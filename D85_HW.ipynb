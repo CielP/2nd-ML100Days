{
  "nbformat": 4,
  "nbformat_minor": 0,
  "metadata": {
    "kernelspec": {
      "display_name": "Python 3",
      "language": "python",
      "name": "python3"
    },
    "language_info": {
      "codemirror_mode": {
        "name": "ipython",
        "version": 3
      },
      "file_extension": ".py",
      "mimetype": "text/x-python",
      "name": "python",
      "nbconvert_exporter": "python",
      "pygments_lexer": "ipython3",
      "version": "3.6.5"
    },
    "colab": {
      "name": "D85_HW.ipynb",
      "version": "0.3.2",
      "provenance": [],
      "collapsed_sections": []
    }
  },
  "cells": [
    {
      "cell_type": "markdown",
      "metadata": {
        "id": "KqqBSqu78O_G",
        "colab_type": "text"
      },
      "source": [
        "## Work\n",
        "1. 試改變 monitor \"Validation Accuracy\" 並比較結果\n",
        "2. 調整 earlystop 的等待次數至 10, 25 並比較結果"
      ]
    },
    {
      "cell_type": "code",
      "metadata": {
        "id": "zUsA7Z--8O_I",
        "colab_type": "code",
        "colab": {
          "base_uri": "https://localhost:8080/",
          "height": 34
        },
        "outputId": "082967c9-8ad4-4694-e121-a1ba4c126133"
      },
      "source": [
        "import os\n",
        "import keras\n",
        "import matplotlib.pyplot as plt\n",
        "%matplotlib inline\n",
        "\n",
        "\n",
        "# Disable GPU\n",
        "os.environ[\"CUDA_VISIBLE_DEVICES\"] = \"\""
      ],
      "execution_count": 1,
      "outputs": [
        {
          "output_type": "stream",
          "text": [
            "Using TensorFlow backend.\n"
          ],
          "name": "stderr"
        }
      ]
    },
    {
      "cell_type": "code",
      "metadata": {
        "id": "lmjZ8Nm88O_N",
        "colab_type": "code",
        "colab": {
          "base_uri": "https://localhost:8080/",
          "height": 51
        },
        "outputId": "9dbed5be-f69f-4212-b23b-bdf397128a98"
      },
      "source": [
        "train, test = keras.datasets.cifar10.load_data()"
      ],
      "execution_count": 2,
      "outputs": [
        {
          "output_type": "stream",
          "text": [
            "Downloading data from https://www.cs.toronto.edu/~kriz/cifar-10-python.tar.gz\n",
            "170500096/170498071 [==============================] - 4s 0us/step\n"
          ],
          "name": "stdout"
        }
      ]
    },
    {
      "cell_type": "code",
      "metadata": {
        "id": "oN-ZWFvs8O_Q",
        "colab_type": "code",
        "colab": {}
      },
      "source": [
        "## 資料前處理\n",
        "def preproc_x(x, flatten=True):\n",
        "    x = x / 255.\n",
        "    if flatten:\n",
        "        x = x.reshape((len(x), -1))\n",
        "    return x\n",
        "\n",
        "def preproc_y(y, num_classes=10):\n",
        "    if y.shape[-1] == 1:\n",
        "        y = keras.utils.to_categorical(y, num_classes)\n",
        "    return y    "
      ],
      "execution_count": 0,
      "outputs": []
    },
    {
      "cell_type": "code",
      "metadata": {
        "id": "Exb9QfLT8O_T",
        "colab_type": "code",
        "colab": {}
      },
      "source": [
        "x_train, y_train = train\n",
        "x_test, y_test = test\n",
        "\n",
        "# Preproc the inputs\n",
        "x_train = preproc_x(x_train)\n",
        "x_test = preproc_x(x_test)\n",
        "\n",
        "# Preprc the outputs\n",
        "y_train = preproc_y(y_train)\n",
        "y_test = preproc_y(y_test)"
      ],
      "execution_count": 0,
      "outputs": []
    },
    {
      "cell_type": "code",
      "metadata": {
        "id": "VZX5oXBL8O_W",
        "colab_type": "code",
        "colab": {}
      },
      "source": [
        "from keras.layers import BatchNormalization\n",
        "\n",
        "\"\"\"\n",
        "建立神經網路，並加入 BN layer\n",
        "\"\"\"\n",
        "def build_mlp(input_shape, output_units=10, num_neurons=[512, 256, 128]):\n",
        "    input_layer = keras.layers.Input(input_shape)\n",
        "    \n",
        "    for i, n_units in enumerate(num_neurons):\n",
        "        if i == 0:\n",
        "            x = keras.layers.Dense(units=n_units, \n",
        "                                   activation=\"relu\", \n",
        "                                   name=\"hidden_layer\"+str(i+1))(input_layer)\n",
        "            x = BatchNormalization()(x)\n",
        "        else:\n",
        "            x = keras.layers.Dense(units=n_units, \n",
        "                                   activation=\"relu\", \n",
        "                                   name=\"hidden_layer\"+str(i+1))(x)\n",
        "            x = BatchNormalization()(x)\n",
        "    \n",
        "    out = keras.layers.Dense(units=output_units, activation=\"softmax\", name=\"output\")(x)\n",
        "    \n",
        "    model = keras.models.Model(inputs=[input_layer], outputs=[out])\n",
        "    return model"
      ],
      "execution_count": 0,
      "outputs": []
    },
    {
      "cell_type": "code",
      "metadata": {
        "id": "e0KHDY678O_Y",
        "colab_type": "code",
        "colab": {}
      },
      "source": [
        "## 超參數設定\n",
        "LEARNING_RATE = 1e-3\n",
        "EPOCHS = 50\n",
        "BATCH_SIZE = 1024\n",
        "MOMENTUM = 0.95\n",
        "PATIENCE = [10, 25]"
      ],
      "execution_count": 0,
      "outputs": []
    },
    {
      "cell_type": "code",
      "metadata": {
        "id": "64lo7zam8O_b",
        "colab_type": "code",
        "colab": {
          "base_uri": "https://localhost:8080/",
          "height": 1000
        },
        "outputId": "af5efc9b-23aa-4526-bc56-ad15ac162441"
      },
      "source": [
        "# 載入 Callbacks\n",
        "from keras.callbacks import EarlyStopping\n",
        "\n",
        "results = {}\n",
        "\"\"\"Code Here\n",
        "撰寫你的訓練流程並將結果用 dictionary 紀錄\n",
        "\"\"\"\n",
        "for pat in PATIENCE:\n",
        "    earlystop = EarlyStopping(monitor=\"valid_acc\", \n",
        "                          patience=pat, \n",
        "                          verbose=1\n",
        "                          )\n",
        "    keras.backend.clear_session() # 把舊的 Graph 清掉\n",
        "    print(\"Experiment with patience = %.6f\" % (pat))\n",
        "    model = build_mlp(input_shape=x_train.shape[1:])\n",
        "    model.summary()\n",
        "    optimizer = keras.optimizers.SGD(lr=LEARNING_RATE, nesterov=True, momentum=MOMENTUM)\n",
        "    model.compile(loss=\"categorical_crossentropy\", metrics=[\"accuracy\"], optimizer=optimizer)\n",
        "\n",
        "    model.fit(x_train, y_train, \n",
        "          epochs=EPOCHS, \n",
        "          batch_size=BATCH_SIZE, \n",
        "          validation_data=(x_test, y_test), \n",
        "          shuffle=True,\n",
        "          callbacks=[earlystop]\n",
        "         )\n",
        "    \n",
        "    # Collect results\n",
        "    train_loss = model.history.history[\"loss\"]\n",
        "    valid_loss = model.history.history[\"val_loss\"]\n",
        "    train_acc = model.history.history[\"acc\"]\n",
        "    valid_acc = model.history.history[\"val_acc\"]\n",
        "    \n",
        "    exp_name_tag = \"exp-pat-%s\" % str(pat)\n",
        "    results[exp_name_tag] = {'train-loss': train_loss,\n",
        "                             'valid-loss': valid_loss,\n",
        "                             'train-acc': train_acc,\n",
        "                             'valid-acc': valid_acc}"
      ],
      "execution_count": 7,
      "outputs": [
        {
          "output_type": "stream",
          "text": [
            "WARNING: Logging before flag parsing goes to stderr.\n",
            "W0723 13:17:06.080010 139738694903680 deprecation_wrapper.py:119] From /usr/local/lib/python3.6/dist-packages/keras/backend/tensorflow_backend.py:95: The name tf.reset_default_graph is deprecated. Please use tf.compat.v1.reset_default_graph instead.\n",
            "\n",
            "W0723 13:17:06.083190 139738694903680 deprecation_wrapper.py:119] From /usr/local/lib/python3.6/dist-packages/keras/backend/tensorflow_backend.py:98: The name tf.placeholder_with_default is deprecated. Please use tf.compat.v1.placeholder_with_default instead.\n",
            "\n",
            "W0723 13:17:06.127914 139738694903680 deprecation_wrapper.py:119] From /usr/local/lib/python3.6/dist-packages/keras/backend/tensorflow_backend.py:102: The name tf.get_default_graph is deprecated. Please use tf.compat.v1.get_default_graph instead.\n",
            "\n",
            "W0723 13:17:06.129667 139738694903680 deprecation_wrapper.py:119] From /usr/local/lib/python3.6/dist-packages/keras/backend/tensorflow_backend.py:517: The name tf.placeholder is deprecated. Please use tf.compat.v1.placeholder instead.\n",
            "\n",
            "W0723 13:17:06.135424 139738694903680 deprecation_wrapper.py:119] From /usr/local/lib/python3.6/dist-packages/keras/backend/tensorflow_backend.py:4138: The name tf.random_uniform is deprecated. Please use tf.random.uniform instead.\n",
            "\n"
          ],
          "name": "stderr"
        },
        {
          "output_type": "stream",
          "text": [
            "Experiment with patience = 10.000000\n"
          ],
          "name": "stdout"
        },
        {
          "output_type": "stream",
          "text": [
            "W0723 13:17:06.616041 139738694903680 deprecation_wrapper.py:119] From /usr/local/lib/python3.6/dist-packages/keras/optimizers.py:790: The name tf.train.Optimizer is deprecated. Please use tf.compat.v1.train.Optimizer instead.\n",
            "\n",
            "W0723 13:17:06.737227 139738694903680 deprecation.py:323] From /usr/local/lib/python3.6/dist-packages/tensorflow/python/ops/math_grad.py:1250: add_dispatch_support.<locals>.wrapper (from tensorflow.python.ops.array_ops) is deprecated and will be removed in a future version.\n",
            "Instructions for updating:\n",
            "Use tf.where in 2.0, which has the same broadcast rule as np.where\n"
          ],
          "name": "stderr"
        },
        {
          "output_type": "stream",
          "text": [
            "_________________________________________________________________\n",
            "Layer (type)                 Output Shape              Param #   \n",
            "=================================================================\n",
            "input_1 (InputLayer)         (None, 3072)              0         \n",
            "_________________________________________________________________\n",
            "hidden_layer1 (Dense)        (None, 512)               1573376   \n",
            "_________________________________________________________________\n",
            "batch_normalization_1 (Batch (None, 512)               2048      \n",
            "_________________________________________________________________\n",
            "hidden_layer2 (Dense)        (None, 256)               131328    \n",
            "_________________________________________________________________\n",
            "batch_normalization_2 (Batch (None, 256)               1024      \n",
            "_________________________________________________________________\n",
            "hidden_layer3 (Dense)        (None, 128)               32896     \n",
            "_________________________________________________________________\n",
            "batch_normalization_3 (Batch (None, 128)               512       \n",
            "_________________________________________________________________\n",
            "output (Dense)               (None, 10)                1290      \n",
            "=================================================================\n",
            "Total params: 1,742,474\n",
            "Trainable params: 1,740,682\n",
            "Non-trainable params: 1,792\n",
            "_________________________________________________________________\n",
            "Train on 50000 samples, validate on 10000 samples\n",
            "Epoch 1/50\n",
            "50000/50000 [==============================] - 10s 207us/step - loss: 2.2136 - acc: 0.2640 - val_loss: 2.0694 - val_acc: 0.3290\n",
            "Epoch 2/50\n",
            " 1024/50000 [..............................] - ETA: 8s - loss: 1.8216 - acc: 0.3770"
          ],
          "name": "stdout"
        },
        {
          "output_type": "stream",
          "text": [
            "/usr/local/lib/python3.6/dist-packages/keras/callbacks.py:569: RuntimeWarning: Early stopping conditioned on metric `valid_acc` which is not available. Available metrics are: val_loss,val_acc,loss,acc\n",
            "  (self.monitor, ','.join(list(logs.keys()))), RuntimeWarning\n"
          ],
          "name": "stderr"
        },
        {
          "output_type": "stream",
          "text": [
            "50000/50000 [==============================] - 9s 184us/step - loss: 1.7512 - acc: 0.3894 - val_loss: 1.7985 - val_acc: 0.3835\n",
            "Epoch 3/50\n",
            "50000/50000 [==============================] - 9s 184us/step - loss: 1.6264 - acc: 0.4309 - val_loss: 1.6868 - val_acc: 0.4113\n",
            "Epoch 4/50\n",
            "50000/50000 [==============================] - 9s 184us/step - loss: 1.5535 - acc: 0.4573 - val_loss: 1.6337 - val_acc: 0.4282\n",
            "Epoch 5/50\n",
            "50000/50000 [==============================] - 9s 185us/step - loss: 1.4985 - acc: 0.4761 - val_loss: 1.5809 - val_acc: 0.4415\n",
            "Epoch 6/50\n",
            "50000/50000 [==============================] - 9s 183us/step - loss: 1.4525 - acc: 0.4940 - val_loss: 1.5657 - val_acc: 0.4498\n",
            "Epoch 7/50\n",
            "50000/50000 [==============================] - 9s 184us/step - loss: 1.4110 - acc: 0.5065 - val_loss: 1.5505 - val_acc: 0.4534\n",
            "Epoch 8/50\n",
            "50000/50000 [==============================] - 9s 183us/step - loss: 1.3761 - acc: 0.5206 - val_loss: 1.5224 - val_acc: 0.4655\n",
            "Epoch 9/50\n",
            "50000/50000 [==============================] - 9s 183us/step - loss: 1.3409 - acc: 0.5335 - val_loss: 1.5005 - val_acc: 0.4719\n",
            "Epoch 10/50\n",
            "50000/50000 [==============================] - 9s 182us/step - loss: 1.3111 - acc: 0.5436 - val_loss: 1.5091 - val_acc: 0.4697\n",
            "Epoch 11/50\n",
            "50000/50000 [==============================] - 9s 183us/step - loss: 1.2827 - acc: 0.5552 - val_loss: 1.4869 - val_acc: 0.4754\n",
            "Epoch 12/50\n",
            "50000/50000 [==============================] - 9s 183us/step - loss: 1.2539 - acc: 0.5666 - val_loss: 1.4751 - val_acc: 0.4791\n",
            "Epoch 13/50\n",
            "50000/50000 [==============================] - 9s 184us/step - loss: 1.2269 - acc: 0.5754 - val_loss: 1.4698 - val_acc: 0.4840\n",
            "Epoch 14/50\n",
            "50000/50000 [==============================] - 9s 183us/step - loss: 1.2024 - acc: 0.5866 - val_loss: 1.4751 - val_acc: 0.4820\n",
            "Epoch 15/50\n",
            "50000/50000 [==============================] - 9s 184us/step - loss: 1.1786 - acc: 0.5946 - val_loss: 1.4564 - val_acc: 0.4908\n",
            "Epoch 16/50\n",
            "50000/50000 [==============================] - 9s 183us/step - loss: 1.1542 - acc: 0.6025 - val_loss: 1.4798 - val_acc: 0.4847\n",
            "Epoch 17/50\n",
            "50000/50000 [==============================] - 9s 183us/step - loss: 1.1318 - acc: 0.6112 - val_loss: 1.4542 - val_acc: 0.4913\n",
            "Epoch 18/50\n",
            "50000/50000 [==============================] - 9s 183us/step - loss: 1.1077 - acc: 0.6215 - val_loss: 1.4620 - val_acc: 0.4913\n",
            "Epoch 19/50\n",
            "50000/50000 [==============================] - 9s 183us/step - loss: 1.0874 - acc: 0.6272 - val_loss: 1.4561 - val_acc: 0.4934\n",
            "Epoch 20/50\n",
            "50000/50000 [==============================] - 9s 184us/step - loss: 1.0629 - acc: 0.6366 - val_loss: 1.4586 - val_acc: 0.4910\n",
            "Epoch 21/50\n",
            "50000/50000 [==============================] - 9s 182us/step - loss: 1.0412 - acc: 0.6455 - val_loss: 1.4610 - val_acc: 0.4933\n",
            "Epoch 22/50\n",
            "50000/50000 [==============================] - 9s 182us/step - loss: 1.0208 - acc: 0.6561 - val_loss: 1.4656 - val_acc: 0.4959\n",
            "Epoch 23/50\n",
            "50000/50000 [==============================] - 9s 183us/step - loss: 0.9971 - acc: 0.6637 - val_loss: 1.4556 - val_acc: 0.4976\n",
            "Epoch 24/50\n",
            "50000/50000 [==============================] - 9s 183us/step - loss: 0.9783 - acc: 0.6723 - val_loss: 1.4653 - val_acc: 0.4949\n",
            "Epoch 25/50\n",
            "50000/50000 [==============================] - 9s 183us/step - loss: 0.9577 - acc: 0.6797 - val_loss: 1.4568 - val_acc: 0.5003\n",
            "Epoch 26/50\n",
            "50000/50000 [==============================] - 9s 183us/step - loss: 0.9367 - acc: 0.6863 - val_loss: 1.4680 - val_acc: 0.4981\n",
            "Epoch 27/50\n",
            "50000/50000 [==============================] - 9s 183us/step - loss: 0.9167 - acc: 0.6943 - val_loss: 1.4817 - val_acc: 0.4988\n",
            "Epoch 28/50\n",
            "50000/50000 [==============================] - 9s 184us/step - loss: 0.8966 - acc: 0.7020 - val_loss: 1.4768 - val_acc: 0.4958\n",
            "Epoch 29/50\n",
            "50000/50000 [==============================] - 9s 182us/step - loss: 0.8760 - acc: 0.7103 - val_loss: 1.5055 - val_acc: 0.4895\n",
            "Epoch 30/50\n",
            "50000/50000 [==============================] - 9s 182us/step - loss: 0.8558 - acc: 0.7200 - val_loss: 1.4795 - val_acc: 0.4960\n",
            "Epoch 31/50\n",
            "50000/50000 [==============================] - 9s 183us/step - loss: 0.8371 - acc: 0.7258 - val_loss: 1.4880 - val_acc: 0.5027\n",
            "Epoch 32/50\n",
            "50000/50000 [==============================] - 9s 185us/step - loss: 0.8161 - acc: 0.7344 - val_loss: 1.5170 - val_acc: 0.4986\n",
            "Epoch 33/50\n",
            "50000/50000 [==============================] - 9s 183us/step - loss: 0.7981 - acc: 0.7399 - val_loss: 1.5155 - val_acc: 0.4940\n",
            "Epoch 34/50\n",
            "50000/50000 [==============================] - 9s 182us/step - loss: 0.7784 - acc: 0.7493 - val_loss: 1.5071 - val_acc: 0.5005\n",
            "Epoch 35/50\n",
            "50000/50000 [==============================] - 9s 183us/step - loss: 0.7579 - acc: 0.7553 - val_loss: 1.5042 - val_acc: 0.5019\n",
            "Epoch 36/50\n",
            "50000/50000 [==============================] - 9s 183us/step - loss: 0.7413 - acc: 0.7618 - val_loss: 1.5368 - val_acc: 0.4938\n",
            "Epoch 37/50\n",
            "50000/50000 [==============================] - 9s 183us/step - loss: 0.7242 - acc: 0.7698 - val_loss: 1.5382 - val_acc: 0.4970\n",
            "Epoch 38/50\n",
            "50000/50000 [==============================] - 9s 185us/step - loss: 0.7040 - acc: 0.7783 - val_loss: 1.5481 - val_acc: 0.4955\n",
            "Epoch 39/50\n",
            "50000/50000 [==============================] - 9s 187us/step - loss: 0.6851 - acc: 0.7866 - val_loss: 1.5509 - val_acc: 0.4919\n",
            "Epoch 40/50\n",
            "50000/50000 [==============================] - 9s 184us/step - loss: 0.6658 - acc: 0.7941 - val_loss: 1.5746 - val_acc: 0.4941\n",
            "Epoch 41/50\n",
            "50000/50000 [==============================] - 9s 184us/step - loss: 0.6472 - acc: 0.8007 - val_loss: 1.5681 - val_acc: 0.4967\n",
            "Epoch 42/50\n",
            "50000/50000 [==============================] - 9s 183us/step - loss: 0.6292 - acc: 0.8083 - val_loss: 1.5746 - val_acc: 0.4904\n",
            "Epoch 43/50\n",
            "50000/50000 [==============================] - 9s 183us/step - loss: 0.6103 - acc: 0.8163 - val_loss: 1.5989 - val_acc: 0.4942\n",
            "Epoch 44/50\n",
            "50000/50000 [==============================] - 9s 182us/step - loss: 0.5921 - acc: 0.8248 - val_loss: 1.6192 - val_acc: 0.4943\n",
            "Epoch 45/50\n",
            "50000/50000 [==============================] - 9s 183us/step - loss: 0.5756 - acc: 0.8299 - val_loss: 1.6109 - val_acc: 0.4934\n",
            "Epoch 46/50\n",
            "50000/50000 [==============================] - 9s 183us/step - loss: 0.5594 - acc: 0.8363 - val_loss: 1.6337 - val_acc: 0.4935\n",
            "Epoch 47/50\n",
            "50000/50000 [==============================] - 9s 183us/step - loss: 0.5433 - acc: 0.8432 - val_loss: 1.6397 - val_acc: 0.4921\n",
            "Epoch 48/50\n",
            "50000/50000 [==============================] - 9s 185us/step - loss: 0.5277 - acc: 0.8488 - val_loss: 1.6487 - val_acc: 0.4923\n",
            "Epoch 49/50\n",
            "50000/50000 [==============================] - 9s 184us/step - loss: 0.5095 - acc: 0.8550 - val_loss: 1.6488 - val_acc: 0.4937\n",
            "Epoch 50/50\n",
            "50000/50000 [==============================] - 9s 183us/step - loss: 0.4932 - acc: 0.8629 - val_loss: 1.6836 - val_acc: 0.4905\n",
            "Experiment with patience = 25.000000\n",
            "_________________________________________________________________\n",
            "Layer (type)                 Output Shape              Param #   \n",
            "=================================================================\n",
            "input_1 (InputLayer)         (None, 3072)              0         \n",
            "_________________________________________________________________\n",
            "hidden_layer1 (Dense)        (None, 512)               1573376   \n",
            "_________________________________________________________________\n",
            "batch_normalization_1 (Batch (None, 512)               2048      \n",
            "_________________________________________________________________\n",
            "hidden_layer2 (Dense)        (None, 256)               131328    \n",
            "_________________________________________________________________\n",
            "batch_normalization_2 (Batch (None, 256)               1024      \n",
            "_________________________________________________________________\n",
            "hidden_layer3 (Dense)        (None, 128)               32896     \n",
            "_________________________________________________________________\n",
            "batch_normalization_3 (Batch (None, 128)               512       \n",
            "_________________________________________________________________\n",
            "output (Dense)               (None, 10)                1290      \n",
            "=================================================================\n",
            "Total params: 1,742,474\n",
            "Trainable params: 1,740,682\n",
            "Non-trainable params: 1,792\n",
            "_________________________________________________________________\n",
            "Train on 50000 samples, validate on 10000 samples\n",
            "Epoch 1/50\n",
            "50000/50000 [==============================] - 10s 199us/step - loss: 2.2044 - acc: 0.2668 - val_loss: 2.1195 - val_acc: 0.3150\n",
            "Epoch 2/50\n",
            " 1024/50000 [..............................] - ETA: 8s - loss: 1.8661 - acc: 0.3779"
          ],
          "name": "stdout"
        },
        {
          "output_type": "stream",
          "text": [
            "/usr/local/lib/python3.6/dist-packages/keras/callbacks.py:569: RuntimeWarning: Early stopping conditioned on metric `valid_acc` which is not available. Available metrics are: val_loss,val_acc,loss,acc\n",
            "  (self.monitor, ','.join(list(logs.keys()))), RuntimeWarning\n"
          ],
          "name": "stderr"
        },
        {
          "output_type": "stream",
          "text": [
            "50000/50000 [==============================] - 9s 185us/step - loss: 1.7619 - acc: 0.3884 - val_loss: 1.8535 - val_acc: 0.3692\n",
            "Epoch 3/50\n",
            "50000/50000 [==============================] - 9s 184us/step - loss: 1.6357 - acc: 0.4292 - val_loss: 1.7446 - val_acc: 0.4012\n",
            "Epoch 4/50\n",
            "50000/50000 [==============================] - 9s 186us/step - loss: 1.5618 - acc: 0.4547 - val_loss: 1.6563 - val_acc: 0.4204\n",
            "Epoch 5/50\n",
            "50000/50000 [==============================] - 9s 184us/step - loss: 1.5017 - acc: 0.4756 - val_loss: 1.5934 - val_acc: 0.4369\n",
            "Epoch 6/50\n",
            "50000/50000 [==============================] - 9s 184us/step - loss: 1.4560 - acc: 0.4905 - val_loss: 1.5779 - val_acc: 0.4443\n",
            "Epoch 7/50\n",
            "50000/50000 [==============================] - 9s 185us/step - loss: 1.4169 - acc: 0.5061 - val_loss: 1.5598 - val_acc: 0.4480\n",
            "Epoch 8/50\n",
            "50000/50000 [==============================] - 9s 188us/step - loss: 1.3789 - acc: 0.5205 - val_loss: 1.5356 - val_acc: 0.4595\n",
            "Epoch 9/50\n",
            "50000/50000 [==============================] - 9s 185us/step - loss: 1.3470 - acc: 0.5304 - val_loss: 1.5148 - val_acc: 0.4628\n",
            "Epoch 10/50\n",
            "50000/50000 [==============================] - 9s 185us/step - loss: 1.3166 - acc: 0.5426 - val_loss: 1.5096 - val_acc: 0.4632\n",
            "Epoch 11/50\n",
            "50000/50000 [==============================] - 9s 185us/step - loss: 1.2871 - acc: 0.5524 - val_loss: 1.4990 - val_acc: 0.4721\n",
            "Epoch 12/50\n",
            "50000/50000 [==============================] - 9s 185us/step - loss: 1.2584 - acc: 0.5608 - val_loss: 1.4924 - val_acc: 0.4717\n",
            "Epoch 13/50\n",
            "50000/50000 [==============================] - 9s 185us/step - loss: 1.2301 - acc: 0.5727 - val_loss: 1.4808 - val_acc: 0.4739\n",
            "Epoch 14/50\n",
            "50000/50000 [==============================] - 9s 185us/step - loss: 1.2046 - acc: 0.5831 - val_loss: 1.4719 - val_acc: 0.4797\n",
            "Epoch 15/50\n",
            "50000/50000 [==============================] - 9s 187us/step - loss: 1.1814 - acc: 0.5914 - val_loss: 1.4740 - val_acc: 0.4823\n",
            "Epoch 16/50\n",
            "50000/50000 [==============================] - 9s 188us/step - loss: 1.1555 - acc: 0.6021 - val_loss: 1.4618 - val_acc: 0.4829\n",
            "Epoch 17/50\n",
            "50000/50000 [==============================] - 9s 186us/step - loss: 1.1318 - acc: 0.6112 - val_loss: 1.4618 - val_acc: 0.4832\n",
            "Epoch 18/50\n",
            "50000/50000 [==============================] - 9s 182us/step - loss: 1.1084 - acc: 0.6197 - val_loss: 1.4597 - val_acc: 0.4863\n",
            "Epoch 19/50\n",
            "50000/50000 [==============================] - 9s 183us/step - loss: 1.0849 - acc: 0.6301 - val_loss: 1.4588 - val_acc: 0.4879\n",
            "Epoch 20/50\n",
            "50000/50000 [==============================] - 9s 184us/step - loss: 1.0629 - acc: 0.6368 - val_loss: 1.4638 - val_acc: 0.4839\n",
            "Epoch 21/50\n",
            "50000/50000 [==============================] - 9s 184us/step - loss: 1.0409 - acc: 0.6468 - val_loss: 1.4607 - val_acc: 0.4931\n",
            "Epoch 22/50\n",
            "50000/50000 [==============================] - 9s 187us/step - loss: 1.0188 - acc: 0.6550 - val_loss: 1.4498 - val_acc: 0.4943\n",
            "Epoch 23/50\n",
            "50000/50000 [==============================] - 9s 187us/step - loss: 0.9969 - acc: 0.6643 - val_loss: 1.4641 - val_acc: 0.4971\n",
            "Epoch 24/50\n",
            "50000/50000 [==============================] - 9s 186us/step - loss: 0.9744 - acc: 0.6731 - val_loss: 1.4637 - val_acc: 0.4896\n",
            "Epoch 25/50\n",
            "50000/50000 [==============================] - 9s 185us/step - loss: 0.9538 - acc: 0.6814 - val_loss: 1.4682 - val_acc: 0.4928\n",
            "Epoch 26/50\n",
            "50000/50000 [==============================] - 9s 184us/step - loss: 0.9320 - acc: 0.6897 - val_loss: 1.4662 - val_acc: 0.4957\n",
            "Epoch 27/50\n",
            "50000/50000 [==============================] - 9s 185us/step - loss: 0.9094 - acc: 0.6989 - val_loss: 1.4790 - val_acc: 0.4853\n",
            "Epoch 28/50\n",
            "50000/50000 [==============================] - 9s 186us/step - loss: 0.8916 - acc: 0.7077 - val_loss: 1.4768 - val_acc: 0.4925\n",
            "Epoch 29/50\n",
            "50000/50000 [==============================] - 9s 185us/step - loss: 0.8695 - acc: 0.7141 - val_loss: 1.5010 - val_acc: 0.4875\n",
            "Epoch 30/50\n",
            "50000/50000 [==============================] - 9s 186us/step - loss: 0.8488 - acc: 0.7230 - val_loss: 1.4934 - val_acc: 0.4978\n",
            "Epoch 31/50\n",
            "50000/50000 [==============================] - 9s 186us/step - loss: 0.8291 - acc: 0.7312 - val_loss: 1.4951 - val_acc: 0.4952\n",
            "Epoch 32/50\n",
            "50000/50000 [==============================] - 9s 184us/step - loss: 0.8087 - acc: 0.7386 - val_loss: 1.4952 - val_acc: 0.4994\n",
            "Epoch 33/50\n",
            "50000/50000 [==============================] - 9s 186us/step - loss: 0.7878 - acc: 0.7451 - val_loss: 1.5201 - val_acc: 0.4946\n",
            "Epoch 34/50\n",
            "50000/50000 [==============================] - 9s 186us/step - loss: 0.7658 - acc: 0.7545 - val_loss: 1.5087 - val_acc: 0.4962\n",
            "Epoch 35/50\n",
            "50000/50000 [==============================] - 9s 185us/step - loss: 0.7481 - acc: 0.7625 - val_loss: 1.5213 - val_acc: 0.4993\n",
            "Epoch 36/50\n",
            "50000/50000 [==============================] - 9s 186us/step - loss: 0.7295 - acc: 0.7707 - val_loss: 1.5313 - val_acc: 0.4987\n",
            "Epoch 37/50\n",
            "50000/50000 [==============================] - 9s 186us/step - loss: 0.7109 - acc: 0.7761 - val_loss: 1.5309 - val_acc: 0.4969\n",
            "Epoch 38/50\n",
            "50000/50000 [==============================] - 9s 186us/step - loss: 0.6911 - acc: 0.7845 - val_loss: 1.5590 - val_acc: 0.4894\n",
            "Epoch 39/50\n",
            "50000/50000 [==============================] - 9s 186us/step - loss: 0.6704 - acc: 0.7930 - val_loss: 1.5581 - val_acc: 0.4911\n",
            "Epoch 40/50\n",
            "50000/50000 [==============================] - 9s 185us/step - loss: 0.6508 - acc: 0.7993 - val_loss: 1.5494 - val_acc: 0.4923\n",
            "Epoch 41/50\n",
            "50000/50000 [==============================] - 9s 186us/step - loss: 0.6340 - acc: 0.8078 - val_loss: 1.5794 - val_acc: 0.4891\n",
            "Epoch 42/50\n",
            "50000/50000 [==============================] - 9s 184us/step - loss: 0.6154 - acc: 0.8149 - val_loss: 1.5890 - val_acc: 0.4896\n",
            "Epoch 43/50\n",
            "50000/50000 [==============================] - 9s 186us/step - loss: 0.5960 - acc: 0.8218 - val_loss: 1.6124 - val_acc: 0.4960\n",
            "Epoch 44/50\n",
            "50000/50000 [==============================] - 9s 185us/step - loss: 0.5790 - acc: 0.8281 - val_loss: 1.6097 - val_acc: 0.4960\n",
            "Epoch 45/50\n",
            "50000/50000 [==============================] - 9s 185us/step - loss: 0.5622 - acc: 0.8362 - val_loss: 1.6204 - val_acc: 0.4897\n",
            "Epoch 46/50\n",
            "50000/50000 [==============================] - 9s 184us/step - loss: 0.5447 - acc: 0.8423 - val_loss: 1.6251 - val_acc: 0.4900\n",
            "Epoch 47/50\n",
            "50000/50000 [==============================] - 9s 185us/step - loss: 0.5261 - acc: 0.8500 - val_loss: 1.6510 - val_acc: 0.4906\n",
            "Epoch 48/50\n",
            "50000/50000 [==============================] - 9s 185us/step - loss: 0.5106 - acc: 0.8574 - val_loss: 1.6572 - val_acc: 0.4894\n",
            "Epoch 49/50\n",
            "50000/50000 [==============================] - 9s 189us/step - loss: 0.4938 - acc: 0.8624 - val_loss: 1.6602 - val_acc: 0.4884\n",
            "Epoch 50/50\n",
            "50000/50000 [==============================] - 9s 186us/step - loss: 0.4780 - acc: 0.8696 - val_loss: 1.6710 - val_acc: 0.4881\n"
          ],
          "name": "stdout"
        }
      ]
    },
    {
      "cell_type": "code",
      "metadata": {
        "id": "Sdycc6lJ8O_d",
        "colab_type": "code",
        "colab": {
          "base_uri": "https://localhost:8080/",
          "height": 763
        },
        "outputId": "d9a85b91-1453-41ad-9926-506aa729eb4b"
      },
      "source": [
        "import matplotlib.pyplot as plt\n",
        "%matplotlib inline\n",
        "\"\"\"Code Here\n",
        "將結果繪出\n",
        "\"\"\"\n",
        "\n",
        "color_bar = [\"r\", \"g\", \"b\", \"y\", \"m\", \"k\"]\n",
        "\n",
        "plt.figure(figsize=(8,6))\n",
        "for i, cond in enumerate(results.keys()):\n",
        "    plt.plot(range(len(results[cond]['train-loss'])),results[cond]['train-loss'], '-', label=cond, color=color_bar[i])\n",
        "    plt.plot(range(len(results[cond]['valid-loss'])),results[cond]['valid-loss'], '--', label=cond, color=color_bar[i])\n",
        "plt.title(\"Loss\")\n",
        "plt.ylim([0, 5])\n",
        "plt.legend()\n",
        "plt.show()\n",
        "\n",
        "plt.figure(figsize=(8,6))\n",
        "for i, cond in enumerate(results.keys()):\n",
        "    plt.plot(range(len(results[cond]['train-acc'])),results[cond]['train-acc'], '-', label=cond, color=color_bar[i])\n",
        "    plt.plot(range(len(results[cond]['valid-acc'])),results[cond]['valid-acc'], '--', label=cond, color=color_bar[i])\n",
        "plt.title(\"Accuracy\")\n",
        "plt.legend()\n",
        "plt.show()"
      ],
      "execution_count": 8,
      "outputs": [
        {
          "output_type": "display_data",
          "data": {
            "image/png": "[encoded data removed]",
            "text/plain": [
              "<Figure size 576x432 with 1 Axes>"
            ]
          },
          "metadata": {
            "tags": []
          }
        },
        {
          "output_type": "display_data",
          "data": {
            "image/png": "[encoded data removed]",
            "text/plain": [
              "<Figure size 576x432 with 1 Axes>"
            ]
          },
          "metadata": {
            "tags": []
          }
        }
      ]
    }
  ]
}