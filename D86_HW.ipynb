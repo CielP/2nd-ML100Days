{
  "nbformat": 4,
  "nbformat_minor": 0,
  "metadata": {
    "kernelspec": {
      "display_name": "Python 3",
      "language": "python",
      "name": "python3"
    },
    "language_info": {
      "codemirror_mode": {
        "name": "ipython",
        "version": 3
      },
      "file_extension": ".py",
      "mimetype": "text/x-python",
      "name": "python",
      "nbconvert_exporter": "python",
      "pygments_lexer": "ipython3",
      "version": "3.6.5"
    },
    "colab": {
      "name": "D86_HW.ipynb",
      "version": "0.3.2",
      "provenance": [],
      "collapsed_sections": []
    }
  },
  "cells": [
    {
      "cell_type": "markdown",
      "metadata": {
        "id": "LyvTPP0wCM4D",
        "colab_type": "text"
      },
      "source": [
        "## Work\n",
        "1. 試比較 save_best_only 與否的差異\n",
        "2. 請僅存入將 save_weights_only 設定為 True, 並嘗試 reset ipynb 並將模型與權重重新建回並預測 x_test"
      ]
    },
    {
      "cell_type": "code",
      "metadata": {
        "id": "oH-OvX3qCM4F",
        "colab_type": "code",
        "colab": {
          "base_uri": "https://localhost:8080/",
          "height": 34
        },
        "outputId": "f985c709-1458-4e02-f4c5-2381260ae27b"
      },
      "source": [
        "import os\n",
        "import keras\n",
        "\n",
        "# Disable GPU\n",
        "os.environ[\"CUDA_VISIBLE_DEVICES\"] = \"\""
      ],
      "execution_count": 1,
      "outputs": [
        {
          "output_type": "stream",
          "text": [
            "Using TensorFlow backend.\n"
          ],
          "name": "stderr"
        }
      ]
    },
    {
      "cell_type": "code",
      "metadata": {
        "id": "pr6KNmonCM4J",
        "colab_type": "code",
        "colab": {}
      },
      "source": [
        "train, test = keras.datasets.cifar10.load_data()"
      ],
      "execution_count": 0,
      "outputs": []
    },
    {
      "cell_type": "code",
      "metadata": {
        "id": "vqPvcmNBCM4M",
        "colab_type": "code",
        "colab": {}
      },
      "source": [
        "## 資料前處理\n",
        "def preproc_x(x, flatten=True):\n",
        "    x = x / 255.\n",
        "    if flatten:\n",
        "        x = x.reshape((len(x), -1))\n",
        "    return x\n",
        "\n",
        "def preproc_y(y, num_classes=10):\n",
        "    if y.shape[-1] == 1:\n",
        "        y = keras.utils.to_categorical(y, num_classes)\n",
        "    return y    "
      ],
      "execution_count": 0,
      "outputs": []
    },
    {
      "cell_type": "code",
      "metadata": {
        "id": "KUWI3_9wCM4P",
        "colab_type": "code",
        "colab": {}
      },
      "source": [
        "x_train, y_train = train\n",
        "x_test, y_test = test\n",
        "\n",
        "# Preproc the inputs\n",
        "x_train = preproc_x(x_train)\n",
        "x_test = preproc_x(x_test)\n",
        "\n",
        "# Preprc the outputs\n",
        "y_train = preproc_y(y_train)\n",
        "y_test = preproc_y(y_test)"
      ],
      "execution_count": 0,
      "outputs": []
    },
    {
      "cell_type": "code",
      "metadata": {
        "id": "1d_6Sy6OCM4S",
        "colab_type": "code",
        "colab": {}
      },
      "source": [
        "from keras.layers import BatchNormalization\n",
        "\n",
        "\"\"\"\n",
        "建立神經網路，並加入 BN layer\n",
        "\"\"\"\n",
        "def build_mlp(input_shape, output_units=10, num_neurons=[512, 256, 128]):\n",
        "    input_layer = keras.layers.Input(input_shape)\n",
        "    \n",
        "    for i, n_units in enumerate(num_neurons):\n",
        "        if i == 0:\n",
        "            x = keras.layers.Dense(units=n_units, \n",
        "                                   activation=\"relu\", \n",
        "                                   name=\"hidden_layer\"+str(i+1))(input_layer)\n",
        "            x = BatchNormalization()(x)\n",
        "        else:\n",
        "            x = keras.layers.Dense(units=n_units, \n",
        "                                   activation=\"relu\", \n",
        "                                   name=\"hidden_layer\"+str(i+1))(x)\n",
        "            x = BatchNormalization()(x)\n",
        "    \n",
        "    out = keras.layers.Dense(units=output_units, activation=\"softmax\", name=\"output\")(x)\n",
        "    \n",
        "    model = keras.models.Model(inputs=[input_layer], outputs=[out])\n",
        "    return model"
      ],
      "execution_count": 0,
      "outputs": []
    },
    {
      "cell_type": "code",
      "metadata": {
        "id": "95fRcHiaCM4U",
        "colab_type": "code",
        "colab": {}
      },
      "source": [
        "## 超參數設定\n",
        "LEARNING_RATE = 1e-3\n",
        "EPOCHS = 50\n",
        "BATCH_SIZE = 1024\n",
        "MOMENTUM = 0.95"
      ],
      "execution_count": 0,
      "outputs": []
    },
    {
      "cell_type": "code",
      "metadata": {
        "id": "rsIUZ-PfCM4X",
        "colab_type": "code",
        "colab": {
          "base_uri": "https://localhost:8080/",
          "height": 1000
        },
        "outputId": "42c9f5b1-b64a-4b7a-e415-47b873def029"
      },
      "source": [
        "# 載入 Callbacks\n",
        "\"\"\"Code Here\n",
        "設定 callbacks: model checkpoint\n",
        "\"\"\"\n",
        "from keras.callbacks import ModelCheckpoint\n",
        "\n",
        "model_ckpt = ModelCheckpoint(filepath=\"./tmp.h5\", \n",
        "                             monitor=\"val_loss\", \n",
        "                             save_best_only=False,\n",
        "                             save_weights_only=True)\n",
        "\n",
        "results = {}\n",
        "\"\"\"Code Here\n",
        "撰寫你的訓練流程並將結果用 dictionary 紀錄\n",
        "\"\"\"\n",
        "model = build_mlp(input_shape=x_train.shape[1:])\n",
        "model.summary()\n",
        "optimizer = keras.optimizers.SGD(lr=LEARNING_RATE, nesterov=True, momentum=MOMENTUM)\n",
        "model.compile(loss=\"categorical_crossentropy\", metrics=[\"accuracy\"], optimizer=optimizer)\n",
        "\n",
        "model.fit(x_train, y_train, \n",
        "          epochs=EPOCHS, \n",
        "          batch_size=BATCH_SIZE, \n",
        "          validation_data=(x_test, y_test), \n",
        "          shuffle=True,\n",
        "          callbacks=[model_ckpt]\n",
        "         )\n",
        "\n",
        "# Collect results\n",
        "train_loss = model.history.history[\"loss\"]\n",
        "valid_loss = model.history.history[\"val_loss\"]\n",
        "train_acc = model.history.history[\"acc\"]\n",
        "valid_acc = model.history.history[\"val_acc\"]\n",
        "\n"
      ],
      "execution_count": 7,
      "outputs": [
        {
          "output_type": "stream",
          "text": [
            "WARNING: Logging before flag parsing goes to stderr.\n",
            "W0723 14:28:01.089319 140602759550848 deprecation_wrapper.py:119] From /usr/local/lib/python3.6/dist-packages/keras/backend/tensorflow_backend.py:74: The name tf.get_default_graph is deprecated. Please use tf.compat.v1.get_default_graph instead.\n",
            "\n",
            "W0723 14:28:01.107715 140602759550848 deprecation_wrapper.py:119] From /usr/local/lib/python3.6/dist-packages/keras/backend/tensorflow_backend.py:517: The name tf.placeholder is deprecated. Please use tf.compat.v1.placeholder instead.\n",
            "\n",
            "W0723 14:28:01.111663 140602759550848 deprecation_wrapper.py:119] From /usr/local/lib/python3.6/dist-packages/keras/backend/tensorflow_backend.py:4138: The name tf.random_uniform is deprecated. Please use tf.random.uniform instead.\n",
            "\n",
            "W0723 14:28:01.202069 140602759550848 deprecation_wrapper.py:119] From /usr/local/lib/python3.6/dist-packages/keras/backend/tensorflow_backend.py:133: The name tf.placeholder_with_default is deprecated. Please use tf.compat.v1.placeholder_with_default instead.\n",
            "\n",
            "W0723 14:28:01.598472 140602759550848 deprecation_wrapper.py:119] From /usr/local/lib/python3.6/dist-packages/keras/optimizers.py:790: The name tf.train.Optimizer is deprecated. Please use tf.compat.v1.train.Optimizer instead.\n",
            "\n",
            "W0723 14:28:01.608308 140602759550848 deprecation_wrapper.py:119] From /usr/local/lib/python3.6/dist-packages/keras/backend/tensorflow_backend.py:3295: The name tf.log is deprecated. Please use tf.math.log instead.\n",
            "\n",
            "W0723 14:28:01.713712 140602759550848 deprecation.py:323] From /usr/local/lib/python3.6/dist-packages/tensorflow/python/ops/math_grad.py:1250: add_dispatch_support.<locals>.wrapper (from tensorflow.python.ops.array_ops) is deprecated and will be removed in a future version.\n",
            "Instructions for updating:\n",
            "Use tf.where in 2.0, which has the same broadcast rule as np.where\n"
          ],
          "name": "stderr"
        },
        {
          "output_type": "stream",
          "text": [
            "_________________________________________________________________\n",
            "Layer (type)                 Output Shape              Param #   \n",
            "=================================================================\n",
            "input_1 (InputLayer)         (None, 3072)              0         \n",
            "_________________________________________________________________\n",
            "hidden_layer1 (Dense)        (None, 512)               1573376   \n",
            "_________________________________________________________________\n",
            "batch_normalization_1 (Batch (None, 512)               2048      \n",
            "_________________________________________________________________\n",
            "hidden_layer2 (Dense)        (None, 256)               131328    \n",
            "_________________________________________________________________\n",
            "batch_normalization_2 (Batch (None, 256)               1024      \n",
            "_________________________________________________________________\n",
            "hidden_layer3 (Dense)        (None, 128)               32896     \n",
            "_________________________________________________________________\n",
            "batch_normalization_3 (Batch (None, 128)               512       \n",
            "_________________________________________________________________\n",
            "output (Dense)               (None, 10)                1290      \n",
            "=================================================================\n",
            "Total params: 1,742,474\n",
            "Trainable params: 1,740,682\n",
            "Non-trainable params: 1,792\n",
            "_________________________________________________________________\n",
            "Train on 50000 samples, validate on 10000 samples\n",
            "Epoch 1/50\n",
            "50000/50000 [==============================] - 10s 198us/step - loss: 2.2360 - acc: 0.2622 - val_loss: 2.1500 - val_acc: 0.3130\n",
            "Epoch 2/50\n",
            "50000/50000 [==============================] - 9s 182us/step - loss: 1.7447 - acc: 0.3932 - val_loss: 1.8127 - val_acc: 0.3799\n",
            "Epoch 3/50\n",
            "50000/50000 [==============================] - 9s 183us/step - loss: 1.6149 - acc: 0.4347 - val_loss: 1.6820 - val_acc: 0.4172\n",
            "Epoch 4/50\n",
            "50000/50000 [==============================] - 9s 184us/step - loss: 1.5386 - acc: 0.4627 - val_loss: 1.6422 - val_acc: 0.4260\n",
            "Epoch 5/50\n",
            "50000/50000 [==============================] - 9s 185us/step - loss: 1.4848 - acc: 0.4822 - val_loss: 1.5933 - val_acc: 0.4384\n",
            "Epoch 6/50\n",
            "50000/50000 [==============================] - 9s 183us/step - loss: 1.4401 - acc: 0.4971 - val_loss: 1.5568 - val_acc: 0.4510\n",
            "Epoch 7/50\n",
            "50000/50000 [==============================] - 9s 183us/step - loss: 1.4015 - acc: 0.5116 - val_loss: 1.5416 - val_acc: 0.4589\n",
            "Epoch 8/50\n",
            "50000/50000 [==============================] - 9s 183us/step - loss: 1.3663 - acc: 0.5229 - val_loss: 1.5252 - val_acc: 0.4646\n",
            "Epoch 9/50\n",
            "50000/50000 [==============================] - 9s 183us/step - loss: 1.3332 - acc: 0.5356 - val_loss: 1.5089 - val_acc: 0.4677\n",
            "Epoch 10/50\n",
            "50000/50000 [==============================] - 9s 184us/step - loss: 1.3034 - acc: 0.5486 - val_loss: 1.4992 - val_acc: 0.4694\n",
            "Epoch 11/50\n",
            "50000/50000 [==============================] - 9s 183us/step - loss: 1.2758 - acc: 0.5575 - val_loss: 1.4923 - val_acc: 0.4746\n",
            "Epoch 12/50\n",
            "50000/50000 [==============================] - 9s 183us/step - loss: 1.2488 - acc: 0.5682 - val_loss: 1.4825 - val_acc: 0.4780\n",
            "Epoch 13/50\n",
            "50000/50000 [==============================] - 9s 183us/step - loss: 1.2226 - acc: 0.5768 - val_loss: 1.4723 - val_acc: 0.4828\n",
            "Epoch 14/50\n",
            "50000/50000 [==============================] - 9s 183us/step - loss: 1.1984 - acc: 0.5857 - val_loss: 1.4645 - val_acc: 0.4853\n",
            "Epoch 15/50\n",
            "50000/50000 [==============================] - 9s 183us/step - loss: 1.1731 - acc: 0.5962 - val_loss: 1.4606 - val_acc: 0.4913\n",
            "Epoch 16/50\n",
            "50000/50000 [==============================] - 9s 184us/step - loss: 1.1489 - acc: 0.6058 - val_loss: 1.4568 - val_acc: 0.4882\n",
            "Epoch 17/50\n",
            "50000/50000 [==============================] - 9s 184us/step - loss: 1.1249 - acc: 0.6145 - val_loss: 1.4654 - val_acc: 0.4899\n",
            "Epoch 18/50\n",
            "50000/50000 [==============================] - 9s 184us/step - loss: 1.1029 - acc: 0.6229 - val_loss: 1.4524 - val_acc: 0.4940\n",
            "Epoch 19/50\n",
            "50000/50000 [==============================] - 9s 183us/step - loss: 1.0821 - acc: 0.6294 - val_loss: 1.4614 - val_acc: 0.4950\n",
            "Epoch 20/50\n",
            "50000/50000 [==============================] - 9s 183us/step - loss: 1.0579 - acc: 0.6396 - val_loss: 1.4649 - val_acc: 0.4905\n",
            "Epoch 21/50\n",
            "50000/50000 [==============================] - 9s 184us/step - loss: 1.0369 - acc: 0.6487 - val_loss: 1.4632 - val_acc: 0.4932\n",
            "Epoch 22/50\n",
            "50000/50000 [==============================] - 9s 183us/step - loss: 1.0152 - acc: 0.6563 - val_loss: 1.4631 - val_acc: 0.4916\n",
            "Epoch 23/50\n",
            "50000/50000 [==============================] - 9s 184us/step - loss: 0.9931 - acc: 0.6645 - val_loss: 1.4614 - val_acc: 0.4973\n",
            "Epoch 24/50\n",
            "50000/50000 [==============================] - 9s 184us/step - loss: 0.9698 - acc: 0.6738 - val_loss: 1.4637 - val_acc: 0.4945\n",
            "Epoch 25/50\n",
            "50000/50000 [==============================] - 9s 184us/step - loss: 0.9511 - acc: 0.6808 - val_loss: 1.4640 - val_acc: 0.4976\n",
            "Epoch 26/50\n",
            "50000/50000 [==============================] - 9s 184us/step - loss: 0.9299 - acc: 0.6899 - val_loss: 1.4843 - val_acc: 0.4925\n",
            "Epoch 27/50\n",
            "50000/50000 [==============================] - 9s 183us/step - loss: 0.9112 - acc: 0.6959 - val_loss: 1.4701 - val_acc: 0.4944\n",
            "Epoch 28/50\n",
            "50000/50000 [==============================] - 9s 183us/step - loss: 0.8898 - acc: 0.7044 - val_loss: 1.4816 - val_acc: 0.5013\n",
            "Epoch 29/50\n",
            "50000/50000 [==============================] - 9s 183us/step - loss: 0.8694 - acc: 0.7136 - val_loss: 1.4838 - val_acc: 0.4972\n",
            "Epoch 30/50\n",
            "50000/50000 [==============================] - 9s 184us/step - loss: 0.8482 - acc: 0.7229 - val_loss: 1.4861 - val_acc: 0.4989\n",
            "Epoch 31/50\n",
            "50000/50000 [==============================] - 9s 183us/step - loss: 0.8300 - acc: 0.7287 - val_loss: 1.5282 - val_acc: 0.4888\n",
            "Epoch 32/50\n",
            "50000/50000 [==============================] - 9s 182us/step - loss: 0.8101 - acc: 0.7361 - val_loss: 1.5095 - val_acc: 0.4965\n",
            "Epoch 33/50\n",
            "50000/50000 [==============================] - 9s 182us/step - loss: 0.7897 - acc: 0.7439 - val_loss: 1.5150 - val_acc: 0.4948\n",
            "Epoch 34/50\n",
            "50000/50000 [==============================] - 9s 183us/step - loss: 0.7700 - acc: 0.7515 - val_loss: 1.5165 - val_acc: 0.4958\n",
            "Epoch 35/50\n",
            "50000/50000 [==============================] - 9s 184us/step - loss: 0.7505 - acc: 0.7586 - val_loss: 1.5302 - val_acc: 0.4967\n",
            "Epoch 36/50\n",
            "50000/50000 [==============================] - 9s 182us/step - loss: 0.7333 - acc: 0.7666 - val_loss: 1.5521 - val_acc: 0.4930\n",
            "Epoch 37/50\n",
            "50000/50000 [==============================] - 9s 184us/step - loss: 0.7127 - acc: 0.7747 - val_loss: 1.5457 - val_acc: 0.4957\n",
            "Epoch 38/50\n",
            "50000/50000 [==============================] - 9s 185us/step - loss: 0.6945 - acc: 0.7826 - val_loss: 1.5583 - val_acc: 0.4915\n",
            "Epoch 39/50\n",
            "50000/50000 [==============================] - 9s 185us/step - loss: 0.6751 - acc: 0.7892 - val_loss: 1.5484 - val_acc: 0.4952\n",
            "Epoch 40/50\n",
            "50000/50000 [==============================] - 9s 183us/step - loss: 0.6563 - acc: 0.7973 - val_loss: 1.5762 - val_acc: 0.4937\n",
            "Epoch 41/50\n",
            "50000/50000 [==============================] - 9s 183us/step - loss: 0.6397 - acc: 0.8039 - val_loss: 1.6022 - val_acc: 0.4911\n",
            "Epoch 42/50\n",
            "50000/50000 [==============================] - 9s 183us/step - loss: 0.6192 - acc: 0.8121 - val_loss: 1.5906 - val_acc: 0.4940\n",
            "Epoch 43/50\n",
            "50000/50000 [==============================] - 9s 184us/step - loss: 0.6018 - acc: 0.8195 - val_loss: 1.6075 - val_acc: 0.4960\n",
            "Epoch 44/50\n",
            "50000/50000 [==============================] - 9s 183us/step - loss: 0.5851 - acc: 0.8246 - val_loss: 1.6324 - val_acc: 0.4943\n",
            "Epoch 45/50\n",
            "50000/50000 [==============================] - 9s 183us/step - loss: 0.5673 - acc: 0.8313 - val_loss: 1.6296 - val_acc: 0.4925\n",
            "Epoch 46/50\n",
            "50000/50000 [==============================] - 9s 186us/step - loss: 0.5515 - acc: 0.8379 - val_loss: 1.6477 - val_acc: 0.4907\n",
            "Epoch 47/50\n",
            "50000/50000 [==============================] - 9s 186us/step - loss: 0.5349 - acc: 0.8461 - val_loss: 1.6751 - val_acc: 0.4967\n",
            "Epoch 48/50\n",
            "50000/50000 [==============================] - 9s 186us/step - loss: 0.5153 - acc: 0.8541 - val_loss: 1.7026 - val_acc: 0.4889\n",
            "Epoch 49/50\n",
            "50000/50000 [==============================] - 9s 186us/step - loss: 0.4993 - acc: 0.8598 - val_loss: 1.6835 - val_acc: 0.4925\n",
            "Epoch 50/50\n",
            "50000/50000 [==============================] - 9s 185us/step - loss: 0.4858 - acc: 0.8638 - val_loss: 1.7012 - val_acc: 0.4937\n"
          ],
          "name": "stdout"
        }
      ]
    },
    {
      "cell_type": "code",
      "metadata": {
        "id": "Rol0qk_mIy__",
        "colab_type": "code",
        "colab": {
          "base_uri": "https://localhost:8080/",
          "height": 34
        },
        "outputId": "ceb9d5a2-1995-46ef-e2f9-6b00a1072c7e"
      },
      "source": [
        "# Load back\n",
        "model = build_mlp(input_shape=x_train.shape[1:])\n",
        "model.load_weights('tmp.h5')\n",
        "optimizer = keras.optimizers.SGD(lr=LEARNING_RATE, nesterov=True, momentum=MOMENTUM)\n",
        "model.compile(loss=\"categorical_crossentropy\", metrics=[\"accuracy\"], optimizer=optimizer)\n",
        "loss_loadback, acc_loadback = model.evaluate(x_test, y_test)"
      ],
      "execution_count": 11,
      "outputs": [
        {
          "output_type": "stream",
          "text": [
            "10000/10000 [==============================] - 2s 198us/step\n"
          ],
          "name": "stdout"
        }
      ]
    },
    {
      "cell_type": "code",
      "metadata": {
        "scrolled": true,
        "id": "gX1pkzRNCM4Z",
        "colab_type": "code",
        "colab": {
          "base_uri": "https://localhost:8080/",
          "height": 545
        },
        "outputId": "f072ef68-b30c-44a1-a40b-81e27089b4a2"
      },
      "source": [
        "import matplotlib.pyplot as plt\n",
        "%matplotlib inline\n",
        "\n",
        "plt.plot(range(len(train_loss)), train_loss, label=\"train loss\")\n",
        "plt.plot(range(len(valid_loss)), valid_loss, label=\"valid loss\")\n",
        "plt.hlines(y=loss_loadback, xmin=0, xmax=len(train_loss), colors='r', linestyles='--')\n",
        "plt.legend()\n",
        "plt.title(\"Loss\")\n",
        "plt.show()\n",
        "\n",
        "plt.plot(range(len(train_acc)), train_acc, label=\"train accuracy\")\n",
        "plt.plot(range(len(valid_acc)), valid_acc, label=\"valid accuracy\")\n",
        "plt.hlines(y=acc_loadback, xmin=0, xmax=len(train_loss), colors='r', linestyles='--')\n",
        "plt.legend()\n",
        "plt.title(\"Accuracy\")\n",
        "plt.show()"
      ],
      "execution_count": 12,
      "outputs": [
        {
          "output_type": "display_data",
          "data": {
            "image/png": "[encoded data removed]",
            "text/plain": [
              "<Figure size 432x288 with 1 Axes>"
            ]
          },
          "metadata": {
            "tags": []
          }
        },
        {
          "output_type": "display_data",
          "data": {
            "image/png": "[encoded data removed]",
            "text/plain": [
              "<Figure size 432x288 with 1 Axes>"
            ]
          },
          "metadata": {
            "tags": []
          }
        }
      ]
    },
    {
      "cell_type": "code",
      "metadata": {
        "id": "5ntUzFEQOZdg",
        "colab_type": "code",
        "colab": {
          "base_uri": "https://localhost:8080/",
          "height": 34
        },
        "outputId": "a1cf8d6d-7147-4473-84cd-f536656aff54"
      },
      "source": [
        "loss_loadback, acc_loadback"
      ],
      "execution_count": 13,
      "outputs": [
        {
          "output_type": "execute_result",
          "data": {
            "text/plain": [
              "(1.6807404090881348, 0.4838)"
            ]
          },
          "metadata": {
            "tags": []
          },
          "execution_count": 13
        }
      ]
    }
  ]
}