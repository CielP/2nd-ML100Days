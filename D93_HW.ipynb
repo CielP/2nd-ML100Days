{
  "nbformat": 4,
  "nbformat_minor": 0,
  "metadata": {
    "kernelspec": {
      "display_name": "Python 3",
      "language": "python",
      "name": "python3"
    },
    "language_info": {
      "codemirror_mode": {
        "name": "ipython",
        "version": 3
      },
      "file_extension": ".py",
      "mimetype": "text/x-python",
      "name": "python",
      "nbconvert_exporter": "python",
      "pygments_lexer": "ipython3",
      "version": "3.6.8"
    },
    "colab": {
      "name": "D93_HW.ipynb",
      "version": "0.3.2",
      "provenance": [],
      "collapsed_sections": []
    }
  },
  "cells": [
    {
      "cell_type": "markdown",
      "metadata": {
        "id": "fmcxILj68rUz",
        "colab_type": "text"
      },
      "source": [
        "# 作業目標:\n",
        "    運用 Keras 模組建構CNN, 了解 CNN 的架構\n",
        "    \n",
        "    "
      ]
    },
    {
      "cell_type": "markdown",
      "metadata": {
        "id": "QxNjU8Dd8rU1",
        "colab_type": "text"
      },
      "source": [
        "# 作業重點\n",
        "(1)嘗試比對 Dense 與 layers.Conv2D 架構NN 的差異\n",
        "\n",
        "(2) 有沒有Pooling layer, 對於參數量的差異\n",
        "\n",
        "注意: input_shape 請勿修改"
      ]
    },
    {
      "cell_type": "code",
      "metadata": {
        "id": "8u_AZRcw8rU1",
        "colab_type": "code",
        "colab": {},
        "outputId": "a1322d29-e176-4360-d9a8-b0de8a885088"
      },
      "source": [
        "#導入相關模組\n",
        "import keras\n",
        "from keras import layers\n",
        "from keras import models\n",
        "from keras.models import Sequential\n",
        "from keras.layers import Conv2D, Activation, MaxPooling2D, Flatten, Dense\n",
        "\n",
        "#確認keras 版本\n",
        "print(keras.__version__)"
      ],
      "execution_count": 0,
      "outputs": [
        {
          "output_type": "stream",
          "text": [
            "Using TensorFlow backend.\n"
          ],
          "name": "stderr"
        },
        {
          "output_type": "stream",
          "text": [
            "2.2.4\n"
          ],
          "name": "stdout"
        }
      ]
    },
    {
      "cell_type": "code",
      "metadata": {
        "id": "XxHH8nV68rU6",
        "colab_type": "code",
        "colab": {}
      },
      "source": [
        "'''\n",
        "model = Sequential([\n",
        "    Dense(xxx),\n",
        "    Activation(xxx),\n",
        "    Dense(xxx),\n",
        "    Activation(xxx),\n",
        "])\n",
        "'''\n",
        "#model.summary()"
      ],
      "execution_count": 0,
      "outputs": []
    },
    {
      "cell_type": "markdown",
      "metadata": {
        "id": "m1D9Sz4q8rU9",
        "colab_type": "text"
      },
      "source": [
        "# layers.Conv2D 模型, 用作比對\n",
        "\n",
        "![CNN_Model.png](attachment:CNN_Model.png)\n",
        "\n"
      ]
    },
    {
      "cell_type": "code",
      "metadata": {
        "id": "_MzO_i9Z8rU-",
        "colab_type": "code",
        "colab": {}
      },
      "source": [
        "'''\n",
        "#建立一個序列模型\n",
        "model = models.Sequential()\n",
        "#建立兩個卷績層, 32 個內核, 內核大小 3x3, \n",
        "#輸入影像大小 28x28x1\n",
        "\n",
        "#建立一個全連接層\n",
        "model.add(Dense(units=100))\n",
        "model.add(Activation('relu'))\n",
        "\n",
        "#建立一個輸出層, 並採用softmax\n",
        "model.add(Dense(units=10))\n",
        "model.add(Activation('softmax'))\n",
        "'''\n",
        "#model.summary()"
      ],
      "execution_count": 0,
      "outputs": []
    }
  ]
}