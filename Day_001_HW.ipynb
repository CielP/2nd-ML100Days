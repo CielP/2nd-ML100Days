{
 "cells": [
  {
   "cell_type": "markdown",
   "metadata": {},
   "source": [
    "作業1：請上 Kaggle, 在 Competitions 或 Dataset 中找一組競賽或資料\n",
    "\n",
    "Jigsaw Unintended Bias in Toxicity Classification\n",
    "\n",
    "1. 你選的這組資料為何重要\n",
    "對於阻擋網路霸凌的研究應可有貢獻\n",
    "基於資料提供者的特徵，這些資料會有比較多互相評論的內容，這是比較稀有的\n",
    "另外，對於label資料幫助也大\n",
    "\n",
    "2. 資料從何而來 (tips: 譬如提供者是誰、以什麼方式蒐集)\n",
    "來自Civil Comments這個已關閉的評論服務網站，關站後Aja Bogdanoff將公開評論發佈出來\n",
    "\n",
    "3. 蒐集而來的資料型態為何\n",
    "為文句(評論)的集合，並含Jigsaw協助label的資訊\n",
    "\n",
    "4. 這組資料想解決的問題如何評估\n",
    "將機器學習的結果嵌入社群網站，將熱門貼文(ex.FB讚數大於N)自動帶入判別、顯示結果是霸凌或不是霸凌，由使用者勾選"
   ]
  },
  {
   "cell_type": "markdown",
   "metadata": {},
   "source": [
    "作業2：想像你經營一個自由載客車隊，你希望能透過數據分析以提升業績，請你思考並描述你如何規劃整體的分析/解決方案：\n",
    "\n",
    "1. 核心問題為何 (tips：如何定義 「提升業績 & 你的假設」)\n",
    "現狀可能是司機靠經驗一窩蜂往熱門地點鑽，造成供過於求現象\n",
    "如何讓司機們的巡迴路線滿足需求，熱門地點較多車，但又不會過度集中，且還是有照顧蛋白區需求\n",
    "又可依照時段自動變更密度分布\n",
    "這樣司機需求能持續不斷接，業績就會提升\n",
    "\n",
    "2. 資料從何而來 (tips：哪些資料可能會對你想問的問題產生影響 & 資料如何蒐集)\n",
    "利用司機手機上的APP收集：乘客上車地點、時間、距離\n",
    "載客後司機手動選擇：乘客性別、年齡區間、職業\n",
    "\n",
    "3. 蒐集而來的資料型態為何\n",
    "是一個旅程的集合，含2.的欄位外，label可能的需求(上下班、出差、參加活動)\n",
    "\n",
    "4. 你要回答的問題，其如何評估 (tips：你的假設如何驗證)\n",
    "司機載客之間的idle時間是否下降"
   ]
  },
  {
   "cell_type": "code",
   "execution_count": 9,
   "metadata": {
    "scrolled": true
   },
   "outputs": [
    {
     "name": "stdout",
     "output_type": "stream",
     "text": [
      "The Mean squared error is 236.065\n",
      "The Mean absolute error is 12.305\n"
     ]
    },
    {
     "data": {
      "image/png": "[encoded data removed]",
      "text/plain": [
       "<Figure size 432x288 with 1 Axes>"
      ]
     },
     "metadata": {
      "needs_background": "light"
     },
     "output_type": "display_data"
    }
   ],
   "source": [
    "# 作業3：\n",
    "import numpy as np\n",
    "import matplotlib.pyplot as plt\n",
    "w = 3\n",
    "b = 0.5\n",
    "\n",
    "x_lin = np.linspace(0, 100, 101)\n",
    "\n",
    "y = (x_lin + np.random.randn(101) * 5) * w + b\n",
    "\n",
    "plt.plot(x_lin, y, 'b.', label = 'data points')\n",
    "plt.title(\"Assume we have data points\")\n",
    "plt.legend(loc = 2)\n",
    "#plt.show()\n",
    "y_hat = x_lin * w + b\n",
    "plt.plot(x_lin, y, 'b.', label = 'data')\n",
    "plt.plot(x_lin, y_hat, 'r-', label = 'prediction')\n",
    "plt.title(\"Assume we have data points (And the prediction)\")\n",
    "plt.legend(loc = 2)\n",
    "#plt.show()\n",
    "def mean_absolute_error(y, yp):\n",
    "    \"\"\"\n",
    "    計算 MAE\n",
    "    Args:\n",
    "        - y: 實際值\n",
    "        - yp: 預測值\n",
    "    Return:\n",
    "        - mae: MAE\n",
    "    \"\"\"\n",
    "    mae = MAE = sum(abs(y - yp)) / len(y)\n",
    "    return mae\n",
    "def mean_squared_error(y, yp):\n",
    "    mse = MSE = sum(abs(y - yp)**2) / len(y)\n",
    "    return mse\n",
    "\n",
    "MSE = mean_squared_error(y, y_hat)\n",
    "MAE = mean_absolute_error(y, y_hat)\n",
    "print(\"The Mean squared error is %.3f\" % (MSE))\n",
    "print(\"The Mean absolute error is %.3f\" % (MAE))"
   ]
  }
 ],
 "metadata": {
  "kernelspec": {
   "display_name": "Python 3",
   "language": "python",
   "name": "python3"
  },
  "language_info": {
   "codemirror_mode": {
    "name": "ipython",
    "version": 3
   },
   "file_extension": ".py",
   "mimetype": "text/x-python",
   "name": "python",
   "nbconvert_exporter": "python",
   "pygments_lexer": "ipython3",
   "version": "3.7.3"
  }
 },
 "nbformat": 4,
 "nbformat_minor": 2
}
