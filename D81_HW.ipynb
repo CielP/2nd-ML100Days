{
  "nbformat": 4,
  "nbformat_minor": 0,
  "metadata": {
    "kernelspec": {
      "display_name": "Python 3",
      "language": "python",
      "name": "python3"
    },
    "language_info": {
      "codemirror_mode": {
        "name": "ipython",
        "version": 3
      },
      "file_extension": ".py",
      "mimetype": "text/x-python",
      "name": "python",
      "nbconvert_exporter": "python",
      "pygments_lexer": "ipython3",
      "version": "3.6.5"
    },
    "colab": {
      "name": "D81_HW.ipynb",
      "version": "0.3.2",
      "provenance": [],
      "collapsed_sections": []
    }
  },
  "cells": [
    {
      "cell_type": "markdown",
      "metadata": {
        "id": "9zYSMQ144ACB",
        "colab_type": "text"
      },
      "source": [
        "## Work\n",
        "1. 請比較使用 l1, l1_l2 及不同比例下的訓練結果"
      ]
    },
    {
      "cell_type": "code",
      "metadata": {
        "id": "jeoSIUFn4ACV",
        "colab_type": "code",
        "colab": {
          "base_uri": "https://localhost:8080/",
          "height": 34
        },
        "outputId": "55f6a9a6-87f0-4072-9522-876dd0bb8f5e"
      },
      "source": [
        "import os\n",
        "import keras\n",
        "\n",
        "# Disable GPU\n",
        "os.environ[\"CUDA_VISIBLE_DEVICES\"] = \"\""
      ],
      "execution_count": 1,
      "outputs": [
        {
          "output_type": "stream",
          "text": [
            "Using TensorFlow backend.\n"
          ],
          "name": "stderr"
        }
      ]
    },
    {
      "cell_type": "code",
      "metadata": {
        "id": "ddDNlZ7-4ACe",
        "colab_type": "code",
        "colab": {}
      },
      "source": [
        "train, test = keras.datasets.cifar10.load_data()"
      ],
      "execution_count": 0,
      "outputs": []
    },
    {
      "cell_type": "code",
      "metadata": {
        "id": "NJIunzW64ACk",
        "colab_type": "code",
        "colab": {}
      },
      "source": [
        "## 資料前處理\n",
        "def preproc_x(x, flatten=True):\n",
        "    x = x / 255.\n",
        "    if flatten:\n",
        "        x = x.reshape((len(x), -1))\n",
        "    return x\n",
        "\n",
        "def preproc_y(y, num_classes=10):\n",
        "    if y.shape[-1] == 1:\n",
        "        y = keras.utils.to_categorical(y, num_classes)\n",
        "    return y    "
      ],
      "execution_count": 0,
      "outputs": []
    },
    {
      "cell_type": "code",
      "metadata": {
        "id": "qPzYoRdb4ACr",
        "colab_type": "code",
        "colab": {}
      },
      "source": [
        "x_train, y_train = train\n",
        "x_test, y_test = test\n",
        "\n",
        "# Preproc the inputs\n",
        "x_train = preproc_x(x_train)\n",
        "x_test = preproc_x(x_test)\n",
        "\n",
        "# Preprc the outputs\n",
        "y_train = preproc_y(y_train)\n",
        "y_test = preproc_y(y_test)"
      ],
      "execution_count": 0,
      "outputs": []
    },
    {
      "cell_type": "code",
      "metadata": {
        "id": "MAHj89Iv4ACw",
        "colab_type": "code",
        "colab": {}
      },
      "source": [
        "\n",
        "from keras.regularizers import l1, l2, l1_l2\n",
        "\n",
        "\"\"\"\n",
        "建立神經網路，並加入 L1 或 L2\n",
        "\"\"\"\n",
        "def build_mlp(input_shape, output_units=10, num_neurons=[512, 256, 128], l1_ratio=1e-4):\n",
        "    input_layer = keras.layers.Input(input_shape)\n",
        "    \n",
        "    for i, n_units in enumerate(num_neurons):\n",
        "        if i == 0:\n",
        "            x = keras.layers.Dense(units=n_units, \n",
        "                                   activation=\"relu\", \n",
        "                                   name=\"hidden_layer\"+str(i+1), \n",
        "                                   kernel_regularizer=l1(l1_ratio))(input_layer)\n",
        "        else:\n",
        "            x = keras.layers.Dense(units=n_units, \n",
        "                                   activation=\"relu\", \n",
        "                                   name=\"hidden_layer\"+str(i+1),\n",
        "                                   kernel_regularizer=l1(l1_ratio))(x)\n",
        "    \n",
        "    out = keras.layers.Dense(units=output_units, activation=\"softmax\", name=\"output\")(x)\n",
        "    \n",
        "    model = keras.models.Model(inputs=[input_layer], outputs=[out])\n",
        "    return model"
      ],
      "execution_count": 0,
      "outputs": []
    },
    {
      "cell_type": "code",
      "metadata": {
        "id": "jSPO1Fko4AC1",
        "colab_type": "code",
        "colab": {}
      },
      "source": [
        "\"\"\"Code Here\n",
        "設定超參數\n",
        "\"\"\"\n",
        "LEARNING_RATE = 1e-3\n",
        "EPOCHS = 50\n",
        "BATCH_SIZE = 256\n",
        "MOMENTUM = 0.95\n",
        "L1_EXP = [1e-2, 1e-12]"
      ],
      "execution_count": 0,
      "outputs": []
    },
    {
      "cell_type": "code",
      "metadata": {
        "scrolled": true,
        "id": "JAki64GX4AC6",
        "colab_type": "code",
        "colab": {
          "base_uri": "https://localhost:8080/",
          "height": 1000
        },
        "outputId": "1a2c1776-fb74-4606-9d6e-8f98b4f4c23d"
      },
      "source": [
        "results = {}\n",
        "\"\"\"Code Here\n",
        "撰寫你的訓練流程並將結果用 dictionary 紀錄\n",
        "\"\"\"\n",
        "for regulizer_ratio in L1_EXP:\n",
        "    keras.backend.clear_session() # 把舊的 Graph 清掉\n",
        "    print(\"Experiment with Regulizer = %.6f\" % (regulizer_ratio))\n",
        "    model = build_mlp(input_shape=x_train.shape[1:], l1_ratio=regulizer_ratio)\n",
        "    model.summary()\n",
        "    optimizer = keras.optimizers.SGD(lr=LEARNING_RATE, nesterov=True, momentum=MOMENTUM)\n",
        "    model.compile(loss=\"categorical_crossentropy\", metrics=[\"accuracy\"], optimizer=optimizer)\n",
        "\n",
        "    model.fit(x_train, y_train, \n",
        "              epochs=EPOCHS, \n",
        "              batch_size=BATCH_SIZE, \n",
        "              validation_data=(x_test, y_test), \n",
        "              shuffle=True)\n",
        "    \n",
        "    # Collect results\n",
        "    train_loss = model.history.history[\"loss\"]\n",
        "    valid_loss = model.history.history[\"val_loss\"]\n",
        "    train_acc = model.history.history[\"acc\"]\n",
        "    valid_acc = model.history.history[\"val_acc\"]\n",
        "    \n",
        "    exp_name_tag = \"exp-l1-%s\" % str(regulizer_ratio)\n",
        "    results[exp_name_tag] = {'train-loss': train_loss,\n",
        "                             'valid-loss': valid_loss,\n",
        "                             'train-acc': train_acc,\n",
        "                             'valid-acc': valid_acc}"
      ],
      "execution_count": 7,
      "outputs": [
        {
          "output_type": "stream",
          "text": [
            "WARNING: Logging before flag parsing goes to stderr.\n",
            "W0721 14:22:51.462755 139624181450624 deprecation_wrapper.py:119] From /usr/local/lib/python3.6/dist-packages/keras/backend/tensorflow_backend.py:95: The name tf.reset_default_graph is deprecated. Please use tf.compat.v1.reset_default_graph instead.\n",
            "\n",
            "W0721 14:22:51.464371 139624181450624 deprecation_wrapper.py:119] From /usr/local/lib/python3.6/dist-packages/keras/backend/tensorflow_backend.py:98: The name tf.placeholder_with_default is deprecated. Please use tf.compat.v1.placeholder_with_default instead.\n",
            "\n",
            "W0721 14:22:51.481484 139624181450624 deprecation_wrapper.py:119] From /usr/local/lib/python3.6/dist-packages/keras/backend/tensorflow_backend.py:102: The name tf.get_default_graph is deprecated. Please use tf.compat.v1.get_default_graph instead.\n",
            "\n",
            "W0721 14:22:51.482724 139624181450624 deprecation_wrapper.py:119] From /usr/local/lib/python3.6/dist-packages/keras/backend/tensorflow_backend.py:517: The name tf.placeholder is deprecated. Please use tf.compat.v1.placeholder instead.\n",
            "\n",
            "W0721 14:22:51.487218 139624181450624 deprecation_wrapper.py:119] From /usr/local/lib/python3.6/dist-packages/keras/backend/tensorflow_backend.py:4138: The name tf.random_uniform is deprecated. Please use tf.random.uniform instead.\n",
            "\n",
            "W0721 14:22:51.569836 139624181450624 deprecation_wrapper.py:119] From /usr/local/lib/python3.6/dist-packages/keras/optimizers.py:790: The name tf.train.Optimizer is deprecated. Please use tf.compat.v1.train.Optimizer instead.\n",
            "\n"
          ],
          "name": "stderr"
        },
        {
          "output_type": "stream",
          "text": [
            "Experiment with Regulizer = 0.010000\n",
            "_________________________________________________________________\n",
            "Layer (type)                 Output Shape              Param #   \n",
            "=================================================================\n",
            "input_1 (InputLayer)         (None, 3072)              0         \n",
            "_________________________________________________________________\n",
            "hidden_layer1 (Dense)        (None, 512)               1573376   \n",
            "_________________________________________________________________\n",
            "hidden_layer2 (Dense)        (None, 256)               131328    \n",
            "_________________________________________________________________\n",
            "hidden_layer3 (Dense)        (None, 128)               32896     \n",
            "_________________________________________________________________\n",
            "output (Dense)               (None, 10)                1290      \n",
            "=================================================================\n",
            "Total params: 1,738,890\n",
            "Trainable params: 1,738,890\n",
            "Non-trainable params: 0\n",
            "_________________________________________________________________\n"
          ],
          "name": "stdout"
        },
        {
          "output_type": "stream",
          "text": [
            "W0721 14:22:51.723008 139624181450624 deprecation.py:323] From /usr/local/lib/python3.6/dist-packages/tensorflow/python/ops/math_grad.py:1250: add_dispatch_support.<locals>.wrapper (from tensorflow.python.ops.array_ops) is deprecated and will be removed in a future version.\n",
            "Instructions for updating:\n",
            "Use tf.where in 2.0, which has the same broadcast rule as np.where\n"
          ],
          "name": "stderr"
        },
        {
          "output_type": "stream",
          "text": [
            "Train on 50000 samples, validate on 10000 samples\n",
            "Epoch 1/50\n",
            "50000/50000 [==============================] - 14s 274us/step - loss: 198.6882 - acc: 0.2403 - val_loss: 41.0736 - val_acc: 0.2485\n",
            "Epoch 2/50\n",
            "50000/50000 [==============================] - 13s 263us/step - loss: 19.0522 - acc: 0.1150 - val_loss: 7.2364 - val_acc: 0.1000\n",
            "Epoch 3/50\n",
            "50000/50000 [==============================] - 13s 262us/step - loss: 4.0855 - acc: 0.0981 - val_loss: 2.6461 - val_acc: 0.1000\n",
            "Epoch 4/50\n",
            "50000/50000 [==============================] - 13s 268us/step - loss: 2.4860 - acc: 0.0979 - val_loss: 2.4625 - val_acc: 0.1000\n",
            "Epoch 5/50\n",
            "50000/50000 [==============================] - 13s 268us/step - loss: 2.4626 - acc: 0.0959 - val_loss: 2.4626 - val_acc: 0.1000\n",
            "Epoch 6/50\n",
            "50000/50000 [==============================] - 14s 271us/step - loss: 2.4626 - acc: 0.0987 - val_loss: 2.4626 - val_acc: 0.1000\n",
            "Epoch 7/50\n",
            "50000/50000 [==============================] - 13s 267us/step - loss: 2.4626 - acc: 0.0982 - val_loss: 2.4625 - val_acc: 0.1000\n",
            "Epoch 8/50\n",
            "50000/50000 [==============================] - 13s 268us/step - loss: 2.4626 - acc: 0.0973 - val_loss: 2.4625 - val_acc: 0.1000\n",
            "Epoch 9/50\n",
            "50000/50000 [==============================] - 14s 270us/step - loss: 2.4626 - acc: 0.0987 - val_loss: 2.4625 - val_acc: 0.1000\n",
            "Epoch 10/50\n",
            "50000/50000 [==============================] - 13s 269us/step - loss: 2.4626 - acc: 0.0992 - val_loss: 2.4626 - val_acc: 0.1000\n",
            "Epoch 11/50\n",
            "50000/50000 [==============================] - 13s 268us/step - loss: 2.4626 - acc: 0.0980 - val_loss: 2.4625 - val_acc: 0.1000\n",
            "Epoch 12/50\n",
            "50000/50000 [==============================] - 13s 266us/step - loss: 2.4626 - acc: 0.0963 - val_loss: 2.4626 - val_acc: 0.1000\n",
            "Epoch 13/50\n",
            "50000/50000 [==============================] - 13s 268us/step - loss: 2.4626 - acc: 0.0989 - val_loss: 2.4626 - val_acc: 0.1000\n",
            "Epoch 14/50\n",
            "50000/50000 [==============================] - 14s 271us/step - loss: 2.4626 - acc: 0.0972 - val_loss: 2.4626 - val_acc: 0.1000\n",
            "Epoch 15/50\n",
            "50000/50000 [==============================] - 14s 271us/step - loss: 2.4626 - acc: 0.0959 - val_loss: 2.4626 - val_acc: 0.1000\n",
            "Epoch 16/50\n",
            "50000/50000 [==============================] - 13s 267us/step - loss: 2.4626 - acc: 0.0964 - val_loss: 2.4626 - val_acc: 0.1000\n",
            "Epoch 17/50\n",
            "50000/50000 [==============================] - 13s 266us/step - loss: 2.4626 - acc: 0.0986 - val_loss: 2.4625 - val_acc: 0.1000\n",
            "Epoch 18/50\n",
            "50000/50000 [==============================] - 13s 268us/step - loss: 2.4626 - acc: 0.0969 - val_loss: 2.4626 - val_acc: 0.1000\n",
            "Epoch 19/50\n",
            "50000/50000 [==============================] - 13s 265us/step - loss: 2.4626 - acc: 0.0986 - val_loss: 2.4625 - val_acc: 0.1000\n",
            "Epoch 20/50\n",
            "50000/50000 [==============================] - 13s 268us/step - loss: 2.4626 - acc: 0.0981 - val_loss: 2.4625 - val_acc: 0.1000\n",
            "Epoch 21/50\n",
            "50000/50000 [==============================] - 13s 267us/step - loss: 2.4626 - acc: 0.0956 - val_loss: 2.4626 - val_acc: 0.1000\n",
            "Epoch 22/50\n",
            "50000/50000 [==============================] - 13s 266us/step - loss: 2.4626 - acc: 0.0979 - val_loss: 2.4625 - val_acc: 0.1000\n",
            "Epoch 23/50\n",
            "50000/50000 [==============================] - 13s 267us/step - loss: 2.4626 - acc: 0.0978 - val_loss: 2.4626 - val_acc: 0.1000\n",
            "Epoch 24/50\n",
            "50000/50000 [==============================] - 13s 267us/step - loss: 2.4626 - acc: 0.0988 - val_loss: 2.4625 - val_acc: 0.1000\n",
            "Epoch 25/50\n",
            "50000/50000 [==============================] - 13s 268us/step - loss: 2.4626 - acc: 0.0982 - val_loss: 2.4625 - val_acc: 0.1000\n",
            "Epoch 26/50\n",
            "50000/50000 [==============================] - 13s 270us/step - loss: 2.4626 - acc: 0.1000 - val_loss: 2.4626 - val_acc: 0.1000\n",
            "Epoch 27/50\n",
            "50000/50000 [==============================] - 14s 275us/step - loss: 2.4626 - acc: 0.0973 - val_loss: 2.4625 - val_acc: 0.1000\n",
            "Epoch 28/50\n",
            "50000/50000 [==============================] - 14s 274us/step - loss: 2.4626 - acc: 0.0984 - val_loss: 2.4625 - val_acc: 0.1000\n",
            "Epoch 29/50\n",
            "50000/50000 [==============================] - 14s 276us/step - loss: 2.4626 - acc: 0.0984 - val_loss: 2.4626 - val_acc: 0.1000\n",
            "Epoch 30/50\n",
            "50000/50000 [==============================] - 13s 269us/step - loss: 2.4626 - acc: 0.0974 - val_loss: 2.4626 - val_acc: 0.1000\n",
            "Epoch 31/50\n",
            "50000/50000 [==============================] - 14s 276us/step - loss: 2.4626 - acc: 0.0981 - val_loss: 2.4626 - val_acc: 0.1000\n",
            "Epoch 32/50\n",
            "50000/50000 [==============================] - 14s 273us/step - loss: 2.4626 - acc: 0.0959 - val_loss: 2.4626 - val_acc: 0.1000\n",
            "Epoch 33/50\n",
            "50000/50000 [==============================] - 14s 272us/step - loss: 2.4626 - acc: 0.0979 - val_loss: 2.4626 - val_acc: 0.1000\n",
            "Epoch 34/50\n",
            "50000/50000 [==============================] - 14s 271us/step - loss: 2.4626 - acc: 0.0980 - val_loss: 2.4626 - val_acc: 0.1000\n",
            "Epoch 35/50\n",
            "50000/50000 [==============================] - 14s 271us/step - loss: 2.4626 - acc: 0.0952 - val_loss: 2.4626 - val_acc: 0.1000\n",
            "Epoch 36/50\n",
            "50000/50000 [==============================] - 14s 271us/step - loss: 2.4626 - acc: 0.0959 - val_loss: 2.4626 - val_acc: 0.1000\n",
            "Epoch 37/50\n",
            "50000/50000 [==============================] - 14s 271us/step - loss: 2.4626 - acc: 0.0986 - val_loss: 2.4626 - val_acc: 0.1000\n",
            "Epoch 38/50\n",
            "50000/50000 [==============================] - 14s 270us/step - loss: 2.4626 - acc: 0.0979 - val_loss: 2.4625 - val_acc: 0.1000\n",
            "Epoch 39/50\n",
            "50000/50000 [==============================] - 13s 269us/step - loss: 2.4626 - acc: 0.0984 - val_loss: 2.4625 - val_acc: 0.1000\n",
            "Epoch 40/50\n",
            "50000/50000 [==============================] - 13s 270us/step - loss: 2.4626 - acc: 0.0993 - val_loss: 2.4625 - val_acc: 0.1000\n",
            "Epoch 41/50\n",
            "50000/50000 [==============================] - 14s 275us/step - loss: 2.4626 - acc: 0.0976 - val_loss: 2.4624 - val_acc: 0.1000\n",
            "Epoch 42/50\n",
            "50000/50000 [==============================] - 14s 274us/step - loss: 2.4626 - acc: 0.0980 - val_loss: 2.4625 - val_acc: 0.1000\n",
            "Epoch 43/50\n",
            "50000/50000 [==============================] - 14s 276us/step - loss: 2.4626 - acc: 0.0964 - val_loss: 2.4626 - val_acc: 0.1000\n",
            "Epoch 44/50\n",
            "50000/50000 [==============================] - 14s 275us/step - loss: 2.4626 - acc: 0.0977 - val_loss: 2.4625 - val_acc: 0.1000\n",
            "Epoch 45/50\n",
            "50000/50000 [==============================] - 14s 275us/step - loss: 2.4626 - acc: 0.0978 - val_loss: 2.4626 - val_acc: 0.1000\n",
            "Epoch 46/50\n",
            "50000/50000 [==============================] - 14s 276us/step - loss: 2.4626 - acc: 0.0987 - val_loss: 2.4625 - val_acc: 0.1000\n",
            "Epoch 47/50\n",
            "50000/50000 [==============================] - 14s 274us/step - loss: 2.4626 - acc: 0.0982 - val_loss: 2.4626 - val_acc: 0.1000\n",
            "Epoch 48/50\n",
            "50000/50000 [==============================] - 14s 273us/step - loss: 2.4626 - acc: 0.0980 - val_loss: 2.4626 - val_acc: 0.1000\n",
            "Epoch 49/50\n",
            "50000/50000 [==============================] - 14s 274us/step - loss: 2.4626 - acc: 0.0988 - val_loss: 2.4625 - val_acc: 0.1000\n",
            "Epoch 50/50\n",
            "50000/50000 [==============================] - 14s 272us/step - loss: 2.4626 - acc: 0.0966 - val_loss: 2.4626 - val_acc: 0.1000\n",
            "Experiment with Regulizer = 0.000000\n",
            "_________________________________________________________________\n",
            "Layer (type)                 Output Shape              Param #   \n",
            "=================================================================\n",
            "input_1 (InputLayer)         (None, 3072)              0         \n",
            "_________________________________________________________________\n",
            "hidden_layer1 (Dense)        (None, 512)               1573376   \n",
            "_________________________________________________________________\n",
            "hidden_layer2 (Dense)        (None, 256)               131328    \n",
            "_________________________________________________________________\n",
            "hidden_layer3 (Dense)        (None, 128)               32896     \n",
            "_________________________________________________________________\n",
            "output (Dense)               (None, 10)                1290      \n",
            "=================================================================\n",
            "Total params: 1,738,890\n",
            "Trainable params: 1,738,890\n",
            "Non-trainable params: 0\n",
            "_________________________________________________________________\n",
            "Train on 50000 samples, validate on 10000 samples\n",
            "Epoch 1/50\n",
            "50000/50000 [==============================] - 14s 270us/step - loss: 2.0110 - acc: 0.2835 - val_loss: 1.8547 - val_acc: 0.3434\n",
            "Epoch 2/50\n",
            "50000/50000 [==============================] - 13s 263us/step - loss: 1.8000 - acc: 0.3674 - val_loss: 1.7590 - val_acc: 0.3824\n",
            "Epoch 3/50\n",
            "50000/50000 [==============================] - 13s 263us/step - loss: 1.7231 - acc: 0.3946 - val_loss: 1.6880 - val_acc: 0.4071\n",
            "Epoch 4/50\n",
            "50000/50000 [==============================] - 13s 264us/step - loss: 1.6673 - acc: 0.4176 - val_loss: 1.6450 - val_acc: 0.4244\n",
            "Epoch 5/50\n",
            "50000/50000 [==============================] - 13s 267us/step - loss: 1.6181 - acc: 0.4334 - val_loss: 1.6131 - val_acc: 0.4330\n",
            "Epoch 6/50\n",
            "50000/50000 [==============================] - 13s 267us/step - loss: 1.5775 - acc: 0.4476 - val_loss: 1.5758 - val_acc: 0.4440\n",
            "Epoch 7/50\n",
            "50000/50000 [==============================] - 13s 266us/step - loss: 1.5429 - acc: 0.4606 - val_loss: 1.5445 - val_acc: 0.4547\n",
            "Epoch 8/50\n",
            "50000/50000 [==============================] - 13s 265us/step - loss: 1.5117 - acc: 0.4715 - val_loss: 1.5298 - val_acc: 0.4532\n",
            "Epoch 9/50\n",
            "50000/50000 [==============================] - 13s 265us/step - loss: 1.4852 - acc: 0.4777 - val_loss: 1.5117 - val_acc: 0.4688\n",
            "Epoch 10/50\n",
            "50000/50000 [==============================] - 13s 266us/step - loss: 1.4605 - acc: 0.4879 - val_loss: 1.4864 - val_acc: 0.4706\n",
            "Epoch 11/50\n",
            "50000/50000 [==============================] - 13s 264us/step - loss: 1.4344 - acc: 0.4978 - val_loss: 1.4688 - val_acc: 0.4814\n",
            "Epoch 12/50\n",
            "50000/50000 [==============================] - 13s 265us/step - loss: 1.4157 - acc: 0.5030 - val_loss: 1.4603 - val_acc: 0.4865\n",
            "Epoch 13/50\n",
            "50000/50000 [==============================] - 13s 266us/step - loss: 1.3943 - acc: 0.5115 - val_loss: 1.4428 - val_acc: 0.4883\n",
            "Epoch 14/50\n",
            "50000/50000 [==============================] - 13s 267us/step - loss: 1.3725 - acc: 0.5166 - val_loss: 1.4251 - val_acc: 0.4906\n",
            "Epoch 15/50\n",
            "50000/50000 [==============================] - 13s 263us/step - loss: 1.3534 - acc: 0.5253 - val_loss: 1.4248 - val_acc: 0.4932\n",
            "Epoch 16/50\n",
            "50000/50000 [==============================] - 13s 262us/step - loss: 1.3362 - acc: 0.5290 - val_loss: 1.4134 - val_acc: 0.4964\n",
            "Epoch 17/50\n",
            "50000/50000 [==============================] - 13s 266us/step - loss: 1.3190 - acc: 0.5365 - val_loss: 1.4372 - val_acc: 0.4907\n",
            "Epoch 18/50\n",
            "50000/50000 [==============================] - 13s 266us/step - loss: 1.3012 - acc: 0.5423 - val_loss: 1.3969 - val_acc: 0.5022\n",
            "Epoch 19/50\n",
            "50000/50000 [==============================] - 13s 266us/step - loss: 1.2856 - acc: 0.5473 - val_loss: 1.4065 - val_acc: 0.4937\n",
            "Epoch 20/50\n",
            "50000/50000 [==============================] - 13s 265us/step - loss: 1.2685 - acc: 0.5538 - val_loss: 1.3844 - val_acc: 0.5085\n",
            "Epoch 21/50\n",
            "50000/50000 [==============================] - 13s 264us/step - loss: 1.2534 - acc: 0.5586 - val_loss: 1.3776 - val_acc: 0.5094\n",
            "Epoch 22/50\n",
            "50000/50000 [==============================] - 13s 265us/step - loss: 1.2371 - acc: 0.5641 - val_loss: 1.3719 - val_acc: 0.5144\n",
            "Epoch 23/50\n",
            "50000/50000 [==============================] - 13s 264us/step - loss: 1.2257 - acc: 0.5684 - val_loss: 1.3743 - val_acc: 0.5063\n",
            "Epoch 24/50\n",
            "50000/50000 [==============================] - 13s 266us/step - loss: 1.2079 - acc: 0.5741 - val_loss: 1.4027 - val_acc: 0.4967\n",
            "Epoch 25/50\n",
            "50000/50000 [==============================] - 13s 267us/step - loss: 1.1955 - acc: 0.5776 - val_loss: 1.3863 - val_acc: 0.5117\n",
            "Epoch 26/50\n",
            "50000/50000 [==============================] - 13s 266us/step - loss: 1.1789 - acc: 0.5850 - val_loss: 1.3871 - val_acc: 0.5098\n",
            "Epoch 27/50\n",
            "50000/50000 [==============================] - 13s 264us/step - loss: 1.1676 - acc: 0.5880 - val_loss: 1.3678 - val_acc: 0.5122\n",
            "Epoch 28/50\n",
            "50000/50000 [==============================] - 13s 267us/step - loss: 1.1509 - acc: 0.5965 - val_loss: 1.3434 - val_acc: 0.5239\n",
            "Epoch 29/50\n",
            "50000/50000 [==============================] - 13s 265us/step - loss: 1.1389 - acc: 0.5985 - val_loss: 1.3588 - val_acc: 0.5221\n",
            "Epoch 30/50\n",
            "50000/50000 [==============================] - 13s 263us/step - loss: 1.1254 - acc: 0.6057 - val_loss: 1.3382 - val_acc: 0.5254\n",
            "Epoch 31/50\n",
            "50000/50000 [==============================] - 13s 264us/step - loss: 1.1106 - acc: 0.6070 - val_loss: 1.3604 - val_acc: 0.5204\n",
            "Epoch 32/50\n",
            "50000/50000 [==============================] - 13s 264us/step - loss: 1.0968 - acc: 0.6138 - val_loss: 1.3424 - val_acc: 0.5267\n",
            "Epoch 33/50\n",
            "50000/50000 [==============================] - 13s 264us/step - loss: 1.0856 - acc: 0.6178 - val_loss: 1.4336 - val_acc: 0.4982\n",
            "Epoch 34/50\n",
            "50000/50000 [==============================] - 13s 263us/step - loss: 1.0708 - acc: 0.6226 - val_loss: 1.3567 - val_acc: 0.5232\n",
            "Epoch 35/50\n",
            "50000/50000 [==============================] - 13s 267us/step - loss: 1.0589 - acc: 0.6269 - val_loss: 1.3373 - val_acc: 0.5328\n",
            "Epoch 36/50\n",
            "50000/50000 [==============================] - 13s 265us/step - loss: 1.0478 - acc: 0.6322 - val_loss: 1.3554 - val_acc: 0.5237\n",
            "Epoch 37/50\n",
            "50000/50000 [==============================] - 13s 268us/step - loss: 1.0324 - acc: 0.6361 - val_loss: 1.3785 - val_acc: 0.5217\n",
            "Epoch 38/50\n",
            "50000/50000 [==============================] - 13s 269us/step - loss: 1.0204 - acc: 0.6407 - val_loss: 1.3789 - val_acc: 0.5208\n",
            "Epoch 39/50\n",
            "50000/50000 [==============================] - 13s 265us/step - loss: 1.0094 - acc: 0.6448 - val_loss: 1.3728 - val_acc: 0.5258\n",
            "Epoch 40/50\n",
            "50000/50000 [==============================] - 13s 265us/step - loss: 0.9957 - acc: 0.6512 - val_loss: 1.3991 - val_acc: 0.5187\n",
            "Epoch 41/50\n",
            "50000/50000 [==============================] - 13s 261us/step - loss: 0.9824 - acc: 0.6541 - val_loss: 1.4663 - val_acc: 0.5061\n",
            "Epoch 42/50\n",
            "50000/50000 [==============================] - 13s 260us/step - loss: 0.9715 - acc: 0.6584 - val_loss: 1.4604 - val_acc: 0.5065\n",
            "Epoch 43/50\n",
            "50000/50000 [==============================] - 13s 262us/step - loss: 0.9552 - acc: 0.6656 - val_loss: 1.3609 - val_acc: 0.5301\n",
            "Epoch 44/50\n",
            "50000/50000 [==============================] - 13s 264us/step - loss: 0.9463 - acc: 0.6675 - val_loss: 1.5501 - val_acc: 0.4880\n",
            "Epoch 45/50\n",
            "50000/50000 [==============================] - 13s 265us/step - loss: 0.9352 - acc: 0.6722 - val_loss: 1.4424 - val_acc: 0.5161\n",
            "Epoch 46/50\n",
            "50000/50000 [==============================] - 13s 266us/step - loss: 0.9202 - acc: 0.6765 - val_loss: 1.3643 - val_acc: 0.5314\n",
            "Epoch 47/50\n",
            "50000/50000 [==============================] - 13s 266us/step - loss: 0.9097 - acc: 0.6794 - val_loss: 1.4428 - val_acc: 0.5194\n",
            "Epoch 48/50\n",
            "50000/50000 [==============================] - 13s 264us/step - loss: 0.8978 - acc: 0.6843 - val_loss: 1.5729 - val_acc: 0.4886\n",
            "Epoch 49/50\n",
            "50000/50000 [==============================] - 13s 265us/step - loss: 0.8874 - acc: 0.6880 - val_loss: 1.3583 - val_acc: 0.5378\n",
            "Epoch 50/50\n",
            "50000/50000 [==============================] - 13s 264us/step - loss: 0.8708 - acc: 0.6939 - val_loss: 1.4029 - val_acc: 0.5298\n"
          ],
          "name": "stdout"
        }
      ]
    },
    {
      "cell_type": "code",
      "metadata": {
        "id": "eh9Zcrf-4ADA",
        "colab_type": "code",
        "colab": {
          "base_uri": "https://localhost:8080/",
          "height": 763
        },
        "outputId": "9b4613c0-dd0e-4772-c837-47dc16dd0833"
      },
      "source": [
        "import matplotlib.pyplot as plt\n",
        "%matplotlib inline\n",
        "\"\"\"Code Here\n",
        "將結果繪出\n",
        "\"\"\"\n",
        "\n",
        "color_bar = [\"r\", \"g\", \"b\", \"y\", \"m\", \"k\"]\n",
        "\n",
        "plt.figure(figsize=(8,6))\n",
        "for i, cond in enumerate(results.keys()):\n",
        "    plt.plot(range(len(results[cond]['train-loss'])),results[cond]['train-loss'], '-', label=cond, color=color_bar[i])\n",
        "    plt.plot(range(len(results[cond]['valid-loss'])),results[cond]['valid-loss'], '--', label=cond, color=color_bar[i])\n",
        "plt.title(\"Loss\")\n",
        "plt.ylim([0, 5])\n",
        "plt.legend()\n",
        "plt.show()\n",
        "\n",
        "plt.figure(figsize=(8,6))\n",
        "for i, cond in enumerate(results.keys()):\n",
        "    plt.plot(range(len(results[cond]['train-acc'])),results[cond]['train-acc'], '-', label=cond, color=color_bar[i])\n",
        "    plt.plot(range(len(results[cond]['valid-acc'])),results[cond]['valid-acc'], '--', label=cond, color=color_bar[i])\n",
        "plt.title(\"Accuracy\")\n",
        "plt.legend()\n",
        "plt.show()"
      ],
      "execution_count": 8,
      "outputs": [
        {
          "output_type": "display_data",
          "data": {
            "image/png": "[encoded data removed]",
            "text/plain": [
              "<Figure size 576x432 with 1 Axes>"
            ]
          },
          "metadata": {
            "tags": []
          }
        },
        {
          "output_type": "display_data",
          "data": {
            "image/png": "[encoded data removed]",
            "text/plain": [
              "<Figure size 576x432 with 1 Axes>"
            ]
          },
          "metadata": {
            "tags": []
          }
        }
      ]
    }
  ]
}